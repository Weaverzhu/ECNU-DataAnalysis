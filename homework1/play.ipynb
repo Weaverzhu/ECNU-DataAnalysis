{
 "cells": [
  {
   "cell_type": "markdown",
   "metadata": {},
   "source": [
    "## Web spider for news.qq.com\n",
    "\n",
    "\n",
    "+ 使用 `requests_html` 渲染 JS 加载的页面\n",
    "+ 使用 `bs4` 解析 html\n",
    "\n"
   ]
  },
  {
   "cell_type": "markdown",
   "metadata": {},
   "source": [
    "准备工作\n"
   ]
  },
  {
   "cell_type": "code",
   "execution_count": 1,
   "metadata": {},
   "outputs": [
    {
     "name": "stdout",
     "output_type": "stream",
     "text": [
      "all set\n"
     ]
    }
   ],
   "source": [
    "import requests_html\n",
    "from bs4 import BeautifulSoup\n",
    "\n",
    "s = requests_html.AsyncHTMLSession()\n",
    "\n",
    "TX_NEWS_URL = \"https://news.qq.com/\"\n",
    "\n",
    "print(\"all set\")"
   ]
  },
  {
   "cell_type": "markdown",
   "metadata": {},
   "source": [
    "网站的编码"
   ]
  },
  {
   "cell_type": "code",
   "execution_count": 2,
   "metadata": {},
   "outputs": [
    {
     "data": {
      "text/plain": [
       "'gb18030'"
      ]
     },
     "execution_count": 2,
     "metadata": {},
     "output_type": "execute_result"
    }
   ],
   "source": [
    "r = await s.get(TX_NEWS_URL)\n",
    "await r.html.arender()\n",
    "r.html.encoding"
   ]
  },
  {
   "cell_type": "markdown",
   "metadata": {},
   "source": [
    "转换编码"
   ]
  },
  {
   "cell_type": "code",
   "execution_count": 3,
   "metadata": {},
   "outputs": [
    {
     "data": {
      "text/plain": [
       "'<!DOCTYPE html><html lang=\"zh-CN\"><head><meta charset=\"GB2312\"><meta http-equiv=\"X-UA-Compatible\" co'"
      ]
     },
     "execution_count": 3,
     "metadata": {},
     "output_type": "execute_result"
    }
   ],
   "source": [
    "ht = r.html.html\n",
    "ht = ht.encode(r.html.encoding).decode(errors='ignore')\n",
    "# r.html.encoding`\n",
    "ht[:100]"
   ]
  },
  {
   "cell_type": "markdown",
   "metadata": {},
   "source": [
    "使用 bs4 解析"
   ]
  },
  {
   "cell_type": "code",
   "execution_count": 4,
   "metadata": {},
   "outputs": [
    {
     "data": {
      "text/plain": [
       "'<!DOCTYPE html>\\n<html lang=\"zh-CN\">\\n <head>\\n  <meta charset=\"utf-8\"/>\\n  <meta content=\"IE=Edge\" http'"
      ]
     },
     "execution_count": 4,
     "metadata": {},
     "output_type": "execute_result"
    }
   ],
   "source": [
    "bs = BeautifulSoup(ht, 'html.parser')\n",
    "bs.prettify()[:100]"
   ]
  },
  {
   "cell_type": "markdown",
   "metadata": {},
   "source": [
    "要闻得所有链接\n"
   ]
  },
  {
   "cell_type": "code",
   "execution_count": 5,
   "metadata": {},
   "outputs": [
    {
     "data": {
      "text/plain": [
       "[<a href=\"https://new.qq.com/omn/TWF20200/TWF2020040201063700.html\" target=\"_blank\"><!-- react-text: 14 --><!-- /react-text --><!-- react-text: 15 --><!-- /react-text --><!-- react-text: 16 -->第一观察 | 总书记浙江17察的三大聚焦点<!-- /react-text --></a>,\n",
       " <a class=\"item qzone\" data-bossirs=\"new_share\" tabindex=\"0\">QQ空间</a>,\n",
       " <a class=\"item qq\" data-bossirs=\"new_share\" tabindex=\"0\">QQ好友</a>,\n",
       " <a class=\"item sina\" data-bossirs=\"new_share\" tabindex=\"0\">新浪微博</a>,\n",
       " <a href=\"https://new.qq.com/omn/TWF20200/TWF2020040201070100.html\" target=\"_blank\"><!-- react-text: 33 -->习近平三月战“疫”部罄17<!-- /react-text --><!-- react-text: 34 --> <!-- /react-text --></a>,\n",
       " <a href=\"https://new.qq.com/omn/20200402/20200402A0NBVM00.html\" target=\"_blank\"><!-- react-text: 36 -->浙江行就是一堂生动新发展理念评17<!-- /react-text --><!-- react-text: 37 --> <!-- /react-text --></a>,\n",
       " <a href=\"https://new.qq.com/omn/20200402/20200402A02RU100.html\" target=\"_blank\"><!-- react-text: 42 -->准确报道疫情<!-- /react-text --><!-- react-text: 43 --> <!-- /react-text --></a>,\n",
       " <a href=\"https://new.qq.com/omn/20200402/20200402A00F8O00.html\" target=\"_blank\"><!-- react-text: 45 -->中国专家与巴基斯坦医务人员交流防疫理忄17<!-- /react-text --><!-- react-text: 46 --> <!-- /react-text --></a>,\n",
       " <a href=\"https://new.qq.com/omn/20200402/20200402A09H3P00.html\" target=\"_blank\"><!-- react-text: 51 --><!-- /react-text --><!-- react-text: 52 --><!-- /react-text --><!-- react-text: 53 -->外交部：向留学人员比较集中国家调酄1750万份“健康包 17<!-- /react-text --></a>,\n",
       " <a class=\"item qzone\" data-bossirs=\"new_share\" tabindex=\"0\">QQ空间</a>,\n",
       " <a class=\"item qq\" data-bossirs=\"new_share\" tabindex=\"0\">QQ好友</a>,\n",
       " <a class=\"item sina\" data-bossirs=\"new_share\" tabindex=\"0\">新浪微博</a>,\n",
       " <a href=\"https://new.qq.com/omn/20200401/20200401A0U0MS00.html\" target=\"_blank\"><!-- react-text: 70 --><!-- /react-text --><!-- react-text: 71 --><!-- /react-text --><!-- react-text: 72 -->奔波回国还是留在当地？留学生们需要更加理性和冷静<!-- /react-text --></a>,\n",
       " <a class=\"item qzone\" data-bossirs=\"new_share\" tabindex=\"0\">QQ空间</a>,\n",
       " <a class=\"item qq\" data-bossirs=\"new_share\" tabindex=\"0\">QQ好友</a>,\n",
       " <a class=\"item sina\" data-bossirs=\"new_share\" tabindex=\"0\">新浪微博</a>]"
      ]
     },
     "execution_count": 5,
     "metadata": {},
     "output_type": "execute_result"
    }
   ],
   "source": [
    "bs.find('ul', 'list top-list').find_all('a')"
   ]
  },
  {
   "cell_type": "markdown",
   "metadata": {},
   "source": [
    "定义爬取内容的函数，以及新闻的 model"
   ]
  },
  {
   "cell_type": "code",
   "execution_count": 6,
   "metadata": {},
   "outputs": [],
   "source": [
    "class News:\n",
    "    def __init__(self, url):\n",
    "        self.url = url\n",
    "    def go(self, s = requests_html.AsyncHTMLSession()):\n",
    "        r = await s.get(self.url)\n",
    "        \n",
    "    pass\n",
    "\n",
    "def download_from_url(s: requests_html.AsyncHTMLSession, url: str):\n",
    "    pass\n",
    "    "
   ]
  }
 ],
 "metadata": {
  "kernelspec": {
   "display_name": "Python 3",
   "language": "python",
   "name": "python3"
  },
  "language_info": {
   "codemirror_mode": {
    "name": "ipython",
    "version": 3
   },
   "file_extension": ".py",
   "mimetype": "text/x-python",
   "name": "python",
   "nbconvert_exporter": "python",
   "pygments_lexer": "ipython3",
   "version": "3.6.9"
  }
 },
 "nbformat": 4,
 "nbformat_minor": 4
}
