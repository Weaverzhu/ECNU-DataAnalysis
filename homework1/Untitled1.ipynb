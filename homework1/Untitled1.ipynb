{
 "cells": [
  {
   "cell_type": "markdown",
   "metadata": {},
   "source": [
    "## 爬取新浪网的新闻\n",
    "\n",
    "+ 使用 requests_html 请求内容\n",
    "+ 使用 bs4 解析 html\n",
    "\n",
    "### 大致思路\n",
    "\n",
    "1. 爬取滚动\n",
    "1. 判断时间是否在两周内，如果是则爬取"
   ]
  },
  {
   "cell_type": "markdown",
   "metadata": {},
   "source": [
    "准备"
   ]
  },
  {
   "cell_type": "code",
   "execution_count": 1,
   "metadata": {},
   "outputs": [],
   "source": [
    "import bs4\n",
    "import requests_html\n",
    "\n",
    "s = requests_html.AsyncHTMLSession()\n",
    "\n",
    "SINA_URL = 'https://news.sina.com.cn/roll/'"
   ]
  },
  {
   "cell_type": "markdown",
   "metadata": {},
   "source": [
    "检查编码"
   ]
  },
  {
   "cell_type": "code",
   "execution_count": 6,
   "metadata": {},
   "outputs": [
    {
     "data": {
      "text/plain": [
       "'utf-8'"
      ]
     },
     "execution_count": 6,
     "metadata": {},
     "output_type": "execute_result"
    }
   ],
   "source": [
    "r = await s.get(SINA_URL)\n",
    "await r.html.arender()\n",
    "r.html.encoding"
   ]
  },
  {
   "cell_type": "markdown",
   "metadata": {},
   "source": []
  },
  {
   "cell_type": "code",
   "execution_count": null,
   "metadata": {},
   "outputs": [],
   "source": [
    "class News:\n",
    "    def __init__(self, url: str):\n",
    "        self.url = url\n",
    "    def go(self):\n",
    "        r = requests_html.requests.get(self.url)\n",
    "        pass\n",
    "    \n"
   ]
  }
 ],
 "metadata": {
  "kernelspec": {
   "display_name": "Python 3",
   "language": "python",
   "name": "python3"
  },
  "language_info": {
   "codemirror_mode": {
    "name": "ipython",
    "version": 3
   },
   "file_extension": ".py",
   "mimetype": "text/x-python",
   "name": "python",
   "nbconvert_exporter": "python",
   "pygments_lexer": "ipython3",
   "version": "3.6.9"
  }
 },
 "nbformat": 4,
 "nbformat_minor": 4
}
