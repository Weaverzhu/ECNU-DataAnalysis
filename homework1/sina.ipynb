{
 "cells": [
  {
   "cell_type": "markdown",
   "metadata": {},
   "source": [
    "## 爬取新浪网的新闻\n",
    "\n",
    "+ 使用 selenium 请求内容\n",
    "+ 使用 bs4 解析 html\n",
    "\n",
    "### 大致思路\n",
    "\n",
    "1. 爬取滚动\n",
    "1. 判断时间是否在两周内，如果是则爬取"
   ]
  },
  {
   "cell_type": "markdown",
   "metadata": {},
   "source": [
    "准备"
   ]
  },
  {
   "cell_type": "code",
   "execution_count": 4,
   "metadata": {},
   "outputs": [],
   "source": [
    "import bs4\n",
    "import requests_html\n",
    "import asyncio\n",
    "import requests\n",
    "\n",
    "\n",
    "\n",
    "SINA_URL = 'https://news.sina.com.cn/roll/'\n",
    "\n",
    "# browser.close()"
   ]
  },
  {
   "cell_type": "markdown",
   "metadata": {},
   "source": [
    "找出链接, 顺便写一个获取最新新闻链接的函数，从第六个链接开始忽略前面的非新闻链接"
   ]
  },
  {
   "cell_type": "code",
   "execution_count": 2,
   "metadata": {},
   "outputs": [
    {
     "name": "stdout",
     "output_type": "stream",
     "text": [
      "[<a href=\"https://finance.sina.com.cn/stock/s/2020-04-10/doc-iircuyvh6964012.shtml\" target=\"_blank\">新华联商业版图逆势扩张 无奈之下瘦身减持自救</a>, <a href=\"https://finance.sina.com.cn/stock/jsy/2020-04-10/doc-iircuyvh6963609.shtml\" target=\"_blank\">创业板指跌逾2% 家用电器板块涨幅领先</a>, <a href=\"https://news.sina.com.cn/c/2020-04-10/doc-iirczymi5494335.shtml\" target=\"_blank\">109秒被抢空!杭州发7500万元消费券再次刷新申领速度</a>, <a href=\"https://finance.sina.com.cn/china/gncj/2020-04-10/doc-iirczymi5494039.shtml\" target=\"_blank\">国家邮政局：全国96.6%的乡镇已建有快递网点</a>, <a href=\"https://finance.sina.com.cn/stock/observe/2020-04-10/doc-iirczymi5493293.shtml\" target=\"_blank\">陕西黑猫多项财务指标下滑引问询 项目转固1年难投产</a>, <a href=\"https://finance.sina.com.cn/china/gncj/2020-04-10/doc-iirczymi5493215.shtml\" target=\"_blank\">习近平：要加强安全生产监管 分区分类加强安全监管执法</a>, <a href=\"https://finance.sina.com.cn/roll/2020-04-10/doc-iircuyvh6962784.shtml\" target=\"_blank\">穆迪报告：国内外消费者需求下降影响 政策缓解民企难题</a>, <a href=\"https://finance.sina.com.cn/money/future/fmnews/2020-04-10/doc-iircuyvh6961896.shtml\" target=\"_blank\">欧佩克+减产协议全文要点一览</a>, <a href=\"https://finance.sina.com.cn/world/gjcj/2020-04-10/doc-iircuyvh6963868.shtml\" target=\"_blank\">日本政府将启动棉布口罩发放 预计花费466亿日元</a>, <a href=\"https://finance.sina.com.cn/stock/s/2020-04-10/doc-iircuyvh6961504.shtml\" target=\"_blank\">同花顺:网络传言与事实不符 呼吁用户加强账户安全防范意识</a>, <a href=\"https://news.sina.com.cn/c/2020-04-10/doc-iirczymi5493146.shtml\" target=\"_blank\">山西组建考古研究院 承担中华五千年文明实证研究</a>, <a href=\"https://finance.sina.com.cn/meeting/2020-04-10/doc-iircuyvh6961857.shtml\" target=\"_blank\">20:00直播：黑石CEO苏世民口述“我的经验与教训”</a>, <a href=\"https://finance.sina.com.cn/meeting/2020-04-10/doc-iirczymi5491796.shtml\" target=\"_blank\">19:00朱民傅成玉李扬共话\"全球经济如何应对至暗时刻\"</a>, <a href=\"https://finance.sina.com.cn/money/bond/wemedia/2020-04-10/doc-iirczymi5491458.shtml\" target=\"_blank\">存10万一年得8000元 “城投债”还可以这么搞？</a>, <a href=\"https://finance.sina.com.cn/china/gncj/2020-04-10/doc-iircuyvh6962546.shtml\" target=\"_blank\">多因素推动3月CPI环比由涨转降 下半年或重回“1时代”</a>, <a href=\"https://finance.sina.com.cn/meeting/2020-04-10/doc-iircuyvh6960811.shtml\" target=\"_blank\">20:00财新云会场：金融科技如何助力武汉经济复苏</a>, <a href=\"https://finance.sina.com.cn/money/insurance/bxdt/2020-04-10/doc-iircuyvh6960598.shtml\" target=\"_blank\">怪事！捐赠保险还捐出官司来了</a>, <a href=\"https://news.sina.com.cn/c/2020-04-10/doc-iircuyvh6962993.shtml\" target=\"_blank\">金冬雁解密三种\"无症状感染\"：一部分人已经适应病毒</a>, <a href=\"https://finance.sina.com.cn/roll/2020-04-10/doc-iircuyvh6962164.shtml\" target=\"_blank\">杭州消费券拉动消费26.58亿元 今日已发放第四轮</a>, <a href=\"https://finance.sina.com.cn/roll/2020-04-10/doc-iirczymi5491276.shtml\" target=\"_blank\">同花顺回应股民账户被盗买入济民制药:和公司相关内容与事实不符</a>, <a href=\"https://finance.sina.com.cn/money/fund/jjh/2020-04-10/doc-iirczymi5490848.shtml\" target=\"_blank\">震荡市“固收+”策略走俏 工银聚和一年定开混合顺势发行</a>, <a href=\"https://finance.sina.com.cn/china/gncj/2020-04-10/doc-iircuyvh6961907.shtml\" target=\"_blank\">国务院：任命贾骞为国家粮食和物资储备局副局长</a>, <a href=\"https://finance.sina.com.cn/roll/2020-04-10/doc-iircuyvh6960563.shtml\" target=\"_blank\">特朗普：俄罗斯与沙特达成石油减产协议利于美能源企业</a>, <a href=\"https://news.sina.com.cn/w/2020-04-10/doc-iircuyvh6961886.shtml\" target=\"_blank\">日本疫情转危谁担政治责任？安倍晋三：这个锅我背</a>, <a href=\"https://finance.sina.com.cn/stock/gujiayidong/2020-04-10/doc-iirczymi5490670.shtml\" target=\"_blank\">快讯：RCS板块午后持续杀跌 号百控股等集体跌停</a>, <a href=\"https://finance.sina.com.cn/chanjing/gsnews/2020-04-10/doc-iirczymi5490422.shtml\" target=\"_blank\">汪静波的反思：绝望、假繁荣和新赛道</a>, <a href=\"https://finance.sina.com.cn/money/fund/jjh/2020-04-10/doc-iirczymi5490402.shtml\" target=\"_blank\">天弘基金杨超：叠加政策支撑+估值优势 电子行业投资价值凸显</a>, <a href=\"https://finance.sina.com.cn/stock/jsy/2020-04-10/doc-iircuyvh6960062.shtml\" target=\"_blank\">快讯：三大指数午后持续走弱 创指跌逾2%沪指跌0.8%</a>, <a href=\"https://news.sina.com.cn/c/2020-04-10/doc-iirczymi5490573.shtml\" target=\"_blank\">黑龙江绥芬河累计报告由俄罗斯入境确诊病例151例</a>, <a href=\"https://finance.sina.com.cn/stock/y/2020-04-10/doc-iircuyvh6959694.shtml\" target=\"_blank\">午间要闻公告：北京拟放宽市场租房补贴申请条件</a>, <a href=\"https://finance.sina.com.cn/money/forex/forexfxyc/2020-04-10/doc-iircuyvh6959583.shtml\" target=\"_blank\">卢金迎:原油爆跌刺激黄金上涨 黄金原油走势分析</a>, <a href=\"https://finance.sina.com.cn/roll/2020-04-10/doc-iirczymi5490352.shtml\" target=\"_blank\">绿地控股组建大基建集团：注册资本200亿 有望分拆上市</a>, <a href=\"https://finance.sina.com.cn/china/dfjj/2020-04-10/doc-iirczymi5490264.shtml\" target=\"_blank\">北京还要戴多久口罩？中央明确：据形势采取差异化措施</a>, <a href=\"https://news.sina.com.cn/c/2020-04-10/doc-iirczymi5490257.shtml\" target=\"_blank\">北京还要戴多久口罩?中央明确:据形势采取差异化措施</a>, <a href=\"https://finance.sina.com.cn/7x24/2020-04-10/doc-iirczymi5489860.shtml\" target=\"_blank\">网传有股民账户被盗买入庄股 同花顺回应:幕后黑手所为</a>, <a href=\"https://news.sina.com.cn/c/2020-04-10/doc-iircuyvh6960463.shtml\" target=\"_blank\">专家谈何时摘口罩:不会长期戴口罩 国内摘口罩正推进</a>, <a href=\"https://news.sina.com.cn/c/2020-04-10/doc-iirczymi5490357.shtml\" target=\"_blank\">最新通知！这里退出开学群聊</a>, <a href=\"https://news.sina.com.cn/o/2020-04-10/doc-iirczymi5489988.shtml\" target=\"_blank\">曾光：疫情内防反弹阶段要注意防“暗火”</a>, <a href=\"https://news.sina.com.cn/s/2020-04-10/doc-iircuyvh6958578.shtml\" target=\"_blank\">律师解读\"高管被指性侵养女\"：当事人收养关系不成立</a>, <a href=\"https://news.sina.com.cn/w/2020-04-10/doc-iirczymi5489706.shtml\" target=\"_blank\">也门报告首例新冠肺炎确诊病例</a>, <a href=\"https://finance.sina.com.cn/chanjing/cyxw/2020-04-10/doc-iircuyvh6958460.shtml\" target=\"_blank\">外国大米价格飙升 对你的餐桌影响有多大？</a>, <a href=\"https://news.sina.com.cn/w/2020-04-10/doc-iircuyvh6959822.shtml\" target=\"_blank\">曾光：发展中国家或是全球疫情下一个战场</a>, <a class=\"videoNewsLeft\" href=\"https://news.sina.com.cn/w/2020-04-10/doc-iircuyvh6959133.shtml\" target=\"_blank\">美87岁疫苗教父重返一线 研发新冠疫苗</a>, <a href=\"https://finance.sina.com.cn/roll/2020-04-10/doc-iircuyvh6958456.shtml\" target=\"_blank\">北京拟放宽市场租房补贴申请条件 提高补贴标准</a>, <a href=\"https://finance.sina.com.cn/money/forex/forexanaly/2020-04-10/doc-iirczymi5488527.shtml\" target=\"_blank\">梁乾东:下周行情策略操作建议</a>, <a href=\"https://finance.sina.com.cn/money/bank/bank_hydt/2020-04-10/doc-iircuyvh6958995.shtml\" target=\"_blank\">银保监会:将对商业银行小微企业金融服务开展监管评价</a>, <a href=\"https://news.sina.com.cn/o/2020-04-10/doc-iircuyvh6959067.shtml\" target=\"_blank\">曾光谈全球疫情：不知“隧道”多长，还没看到亮光</a>, <a class=\"videoNewsLeft\" href=\"https://finance.sina.com.cn/videonews/2020-04-10/doc-iircuyvh6960842.shtml\" target=\"_blank\">视频丨国家政策大红包 有人多拿四千多块 看看你拿多少</a>, <a href=\"https://finance.sina.com.cn/chanjing/gsnews/2020-04-10/doc-iircuyvh6958009.shtml\" target=\"_blank\">疫情加剧波音现金流危机 计划裁员10%</a>, <a href=\"https://finance.sina.com.cn/chanjing/gsnews/2020-04-10/doc-iirczymi5488188.shtml\" target=\"_blank\">特斯拉中国高层降薪 其余员工保持不变</a>, <a href=\"javascript:void(0)\" onclick=\"newsList.page.goTo(2);return false;\">2</a>, <a href=\"javascript:void(0)\" onclick=\"newsList.page.goTo(3);return false;\">3</a>, <a href=\"javascript:void(0)\" onclick=\"newsList.page.goTo(4);return false;\">4</a>, <a href=\"javascript:void(0)\" onclick=\"newsList.page.goTo(5);return false;\">5</a>, <a href=\"javascript:void(0)\" onclick=\"newsList.page.goTo(6);return false;\">6</a>, <a href=\"javascript:void(0)\" onclick=\"newsList.page.goTo(7);return false;\">7</a>, <a href=\"javascript:void(0)\" onclick=\"newsList.page.goTo(8);return false;\">8</a>, <a href=\"javascript:void(0)\" onclick=\"newsList.page.goTo(9);return false;\">9</a>, <a href=\"javascript:void(0)\" onclick=\"newsList.page.goTo(10);return false;\">10</a>, <a href=\"javascript:void(0)\" onclick=\"newsList.page.goTo(11);return false;\">11</a>, <a href=\"javascript:void(0)\" onclick=\"newsList.page.goTo(25350);return false;\">25350</a>, <a href=\"javascript:void(0)\" onclick=\"newsList.page.next();return false;\">下一页</a>, <a href=\"http://news.sina.com.cn/guest.html\" target=\"_blank\">意见反馈留言板</a>, <a href=\"http://www.sina.com.cn/intro/copyright.shtml\">版权所有</a>, <a class=\"checked\" href=\"javascript:void(0)\" pageid=\"153\" s_id=\"2509\" s_type=\"col\">全部</a>, <a class=\"\" href=\"javascript:void(0)\" pageid=\"153\" s_id=\"2510\" s_type=\"col\">国内</a>, <a class=\"\" href=\"javascript:void(0)\" pageid=\"153\" s_id=\"2511\" s_type=\"col\">国际</a>, <a class=\"\" href=\"javascript:void(0)\" pageid=\"153\" s_id=\"2669\" s_type=\"col\">社会</a>, <a class=\"\" href=\"javascript:void(0)\" pageid=\"153\" s_id=\"2512\" s_type=\"col\">体育</a>, <a class=\"\" href=\"javascript:void(0)\" pageid=\"153\" s_id=\"2513\" s_type=\"col\">娱乐</a>, <a class=\"\" href=\"javascript:void(0)\" pageid=\"153\" s_id=\"2514\" s_type=\"col\">军事</a>, <a class=\"\" href=\"javascript:void(0)\" pageid=\"153\" s_id=\"2515\" s_type=\"col\">科技</a>, <a class=\"\" href=\"javascript:void(0)\" pageid=\"153\" s_id=\"2516\" s_type=\"col\">财经</a>, <a class=\"\" href=\"javascript:void(0)\" pageid=\"153\" s_id=\"2517\" s_type=\"col\">股市</a>, <a class=\"\" href=\"javascript:void(0)\" pageid=\"153\" s_id=\"2518\" s_type=\"col\">美股</a>, <a href=\"javascript:void(0)\" onclick=\"newsList.autoReload.setCdsSize(30);return false;\">30秒</a>, <a href=\"javascript:void(0)\" onclick=\"newsList.autoReload.setCdsSize(90);return false;\">90秒</a>, <a class=\"\" href=\"javascript:void(0)\" id=\"autoHideToolBar\" title=\"自动隐藏工具栏\">自动隐藏</a>, <a href=\"javascript:void(0)\" id=\"preMonth\" style=\"visibility: inherit;\">&lt;&lt;</a>, <a href=\"javascript:void(0)\" id=\"nextMonth\" style=\"visibility: hidden;\">&gt;&gt;</a>, <a href=\"javascript:void(0)\" onclick=\"newsList.review.click(2020,3,1);return false;\">1</a>, <a href=\"javascript:void(0)\" onclick=\"newsList.review.click(2020,3,2);return false;\">2</a>, <a href=\"javascript:void(0)\" onclick=\"newsList.review.click(2020,3,3);return false;\">3</a>, <a href=\"javascript:void(0)\" onclick=\"newsList.review.click(2020,3,4);return false;\">4</a>, <a href=\"javascript:void(0)\" onclick=\"newsList.review.click(2020,3,5);return false;\">5</a>, <a href=\"javascript:void(0)\" onclick=\"newsList.review.click(2020,3,6);return false;\">6</a>, <a href=\"javascript:void(0)\" onclick=\"newsList.review.click(2020,3,7);return false;\">7</a>, <a href=\"javascript:void(0)\" onclick=\"newsList.review.click(2020,3,8);return false;\">8</a>, <a href=\"javascript:void(0)\" onclick=\"newsList.review.click(2020,3,9);return false;\">9</a>]\n"
     ]
    }
   ],
   "source": [
    "\n",
    "\n",
    "async def __get_latest_news_urls():\n",
    "    s = requests_html.AsyncHTMLSession()\n",
    "    r = await s.get(SINA_URL)\n",
    "    await r.html.arender()\n",
    "    bs = bs4.BeautifulSoup(r.html.html, 'html.parser')\n",
    "    return bs.find_all('a')[6:]\n",
    "\n",
    "links = await(__get_latest_news_urls())\n",
    "print(links)\n"
   ]
  },
  {
   "cell_type": "markdown",
   "metadata": {},
   "source": [
    "思考一下数据的维度\n",
    "\n",
    "1. 标题\n",
    "1. 类别\n",
    "2. 时间\n",
    "4. 关键字\n",
    "5. 责任编辑\n",
    "6. 来源\n",
    "7. 相关专题\n",
    "8. 正文\n",
    "\n",
    "总之提取信息相当麻烦，因为格式不是固定的，上述元素也不一定在所有新闻中都出现\n",
    "\n",
    "这里随便选一个全部都有的新闻当例子"
   ]
  },
  {
   "cell_type": "code",
   "execution_count": 5,
   "metadata": {},
   "outputs": [],
   "source": [
    "sample_url = \"https://finance.sina.com.cn/roll/2020-04-03/doc-iimxxsth3469383.shtml\"\n",
    "r = requests.get(sample_url)\n",
    "bs = bs4.BeautifulSoup(r.text.encode(r.encoding).decode(\"utf8\",\"ignore\"))"
   ]
  },
  {
   "cell_type": "code",
   "execution_count": 6,
   "metadata": {},
   "outputs": [],
   "source": [
    "import re\n",
    "import datetime\n",
    "import requests\n",
    "\n",
    "class SinaNews:\n",
    "    def __init__(self, url: str):\n",
    "        self.url = url\n",
    "        r = requests.get(url)\n",
    "        self.bs = bs4.BeautifulSoup(r.text.encode(r.encoding).decode(\"utf8\",\"ignore\"))\n",
    "    async def go(self):\n",
    "#         print(self.bs.prettify())\n",
    "        \n",
    "        self.main_title = self.bs.find('title').text\n",
    "        date_source = self.bs.find('div', 'date-source')\n",
    "        if date_source is None:\n",
    "            date_source = self.bs.find('div', 'artInfo')\n",
    "        date_text = date_source.find('span', 'date')\n",
    "        if date_text is None:\n",
    "            date_text = date_source.find('span', id='pub_date')\n",
    "#         print(date_source, date_text)\n",
    "#         self.html = self.bs.prettify()\n",
    "\n",
    "        if date_text is not None:\n",
    "            date_text = date_text.text.strip()\n",
    "#             print(date_text)\n",
    "            date_text = date_text.replace(' ', '')\n",
    "            \n",
    "            if '年' in date_text:\n",
    "                self.publish_date = datetime.datetime.strptime(date_text, '%Y年%m月%d日%H:%M')\n",
    "            else:\n",
    "                self.publish_date = datetime.datetime.strptime(date_text, '%Y-%m-%d%H:%M:%S')\n",
    "        self.source = date_source.find_all()[1].text\n",
    "        content_list = self.bs.find_all('p')\n",
    "        self.content = \"\".join([ tag.text for tag in content_list if not 'class' in tag.attrs ])\n",
    "        key_words_list = self.bs.find('div', 'article-bottom clearfix')\n",
    "        if key_words_list is not None:\n",
    "            key_words_list = key_words_list.find_all('a')\n",
    "            self.key_words = \" \".join([ tag.text for tag in key_words_list if not 'class' in tag.attrs])\n",
    "        \n",
    "        editor_source = self.bs.find(string=re.compile('责任编辑'))\n",
    "        if editor_source is not None:\n",
    "            editor_source = editor_source.split('责任编辑：')\n",
    "            self.article_editor = editor_source[-1].strip()\n",
    "        \n",
    "        self.category = self.bs.find('div', 'channel-path')\n",
    "        if self.category is not None:\n",
    "            self.category = self.category.find('a')\n",
    "        if self.category is not None:\n",
    "            self.category = self.category.text\n",
    "        \n",
    "        relative_topics_tags = self.bs.find('div', attrs={\n",
    "            'data-sudaclick': 'content_relativetopics_p'\n",
    "        })\n",
    "        if relative_topics_tags is not None:\n",
    "            relative_topics_tags = relative_topics_tags.find_all('a')\n",
    "#             print(relative_topics_tags)\n",
    "            self.relative_topics = \" \".join(tag.text for tag in relative_topics_tags)\n",
    "        self.data = dict()\n",
    "        for k in self.__dict__:\n",
    "            if k != 'bs' and k != 'url' and k != 'data':\n",
    "                self.data[k] = self.__dict__[k]\n",
    "#                 if k != 'content':\n",
    "#                     print(k, self.__dict__[k])\n",
    "        \n",
    "#         pass\n",
    "r = SinaNews(sample_url)\n",
    "await r.go()"
   ]
  },
  {
   "cell_type": "markdown",
   "metadata": {},
   "source": [
    "写入 csv 文件\n"
   ]
  },
  {
   "cell_type": "code",
   "execution_count": 7,
   "metadata": {},
   "outputs": [
    {
     "name": "stdout",
     "output_type": "stream",
     "text": [
      "done\n"
     ]
    }
   ],
   "source": [
    "import csv\n",
    "import pandas as pd\n",
    "import numpy as np\n",
    "\n",
    "sample_csv_file = \"./sample.csv\"\n",
    "\n",
    "def dump(sampleNews: SinaNews, sinaNewsList: list):\n",
    "    d = dict()\n",
    "    attrs = sampleNews.data.keys()\n",
    "    for k in attrs:\n",
    "        d[k] = []\n",
    "    for n in sinaNewsList:\n",
    "        for k in attrs:\n",
    "            if k in n.data:\n",
    "                d[k].append(n.data[k])\n",
    "            else:\n",
    "                d[k].append(None)\n",
    "    return pd.DataFrame(d, columns=attrs)\n",
    "\n",
    "\n",
    "df = dump(r, [r])\n",
    "print('done')\n",
    "df.to_csv('sample.csv')\n"
   ]
  },
  {
   "cell_type": "markdown",
   "metadata": {},
   "source": [
    "尝试读取内容"
   ]
  },
  {
   "cell_type": "code",
   "execution_count": 8,
   "metadata": {},
   "outputs": [
    {
     "data": {
      "text/html": [
       "<div>\n",
       "<style scoped>\n",
       "    .dataframe tbody tr th:only-of-type {\n",
       "        vertical-align: middle;\n",
       "    }\n",
       "\n",
       "    .dataframe tbody tr th {\n",
       "        vertical-align: top;\n",
       "    }\n",
       "\n",
       "    .dataframe thead th {\n",
       "        text-align: right;\n",
       "    }\n",
       "</style>\n",
       "<table border=\"1\" class=\"dataframe\">\n",
       "  <thead>\n",
       "    <tr style=\"text-align: right;\">\n",
       "      <th></th>\n",
       "      <th>main_title</th>\n",
       "      <th>publish_date</th>\n",
       "      <th>source</th>\n",
       "      <th>content</th>\n",
       "      <th>key_words</th>\n",
       "      <th>article_editor</th>\n",
       "      <th>category</th>\n",
       "      <th>relative_topics</th>\n",
       "    </tr>\n",
       "  </thead>\n",
       "  <tbody>\n",
       "    <tr>\n",
       "      <th>0</th>\n",
       "      <td>做空机构曾围绕瑞幸掐架：力挺瑞幸的香椽终于承认浑水是对的|做空机构_新浪财经_新浪网</td>\n",
       "      <td>2020-04-03 13:48:00</td>\n",
       "      <td>澎湃新闻</td>\n",
       "      <td>安装新浪财经客户端第一时间接收最全面的市场资讯→【下载地址】　　瑞幸咖啡（Nasdaq：LK...</td>\n",
       "      <td>做空机构 瑞幸咖啡</td>\n",
       "      <td>孟然</td>\n",
       "      <td>美股</td>\n",
       "      <td>瑞幸咖啡伪造交易股价暴跌专题</td>\n",
       "    </tr>\n",
       "  </tbody>\n",
       "</table>\n",
       "</div>"
      ],
      "text/plain": [
       "                                   main_title         publish_date source  \\\n",
       "0  做空机构曾围绕瑞幸掐架：力挺瑞幸的香椽终于承认浑水是对的|做空机构_新浪财经_新浪网  2020-04-03 13:48:00   澎湃新闻   \n",
       "\n",
       "                                             content  key_words  \\\n",
       "0  安装新浪财经客户端第一时间接收最全面的市场资讯→【下载地址】　　瑞幸咖啡（Nasdaq：LK...  做空机构 瑞幸咖啡   \n",
       "\n",
       "  article_editor category relative_topics  \n",
       "0             孟然       美股  瑞幸咖啡伪造交易股价暴跌专题  "
      ]
     },
     "execution_count": 8,
     "metadata": {},
     "output_type": "execute_result"
    }
   ],
   "source": [
    "df2 = pd.read_csv(sample_csv_file, index_col=0)\n",
    "df2"
   ]
  },
  {
   "cell_type": "markdown",
   "metadata": {},
   "source": [
    "写一个测试函数，爬取最新的几条新闻"
   ]
  },
  {
   "cell_type": "code",
   "execution_count": 9,
   "metadata": {},
   "outputs": [
    {
     "name": "stdout",
     "output_type": "stream",
     "text": [
      "{'main_title': '北京玉渊潭公园门票倒卖情况突出 将实名购票|玉渊潭公园|景山公园|北京_新浪新闻', 'publish_date': datetime.datetime(2020, 4, 9, 16, 39), 'source': '新京报', 'content': '\\u3000\\u3000原标题：玉渊潭公园门票倒卖情况突出，将实名购票\\u3000\\u3000景山公园也将实名购票。\\u3000\\u3000新京报快讯 4月9日，北京召开新冠疫情防控第76场发布会。\\u3000\\u3000北京市公园管理中心副主任、新闻发言人张亚红表示，市属11家公园在清明假期接待游客数量比去年同期减少70%，游客在游园时也配合戴口罩、测温。这是因为市属公园提前采取网上预约措施。\\u3000\\u3000倒卖玉渊潭公园门票情况比较突出，已向公安机关报警。相关人员禁止进入所有市属公园。\\u3000\\u30004月11日，玉渊潭将实行实名购票。景山公园也将实名购票。\\u3000\\u3000新京报记者 李玉坤更多猛料！欢迎扫描左方二维码关注新浪新闻官方微信（xinlang-xinwen）违法和不良信息举报电话：4000520066\\n                    举报邮箱：jubao@vip.sina.comCopyright © 1996-2020 SINA CorporationAll Rights Reserved  新浪公司 版权所有 ', 'key_words': '玉渊潭公园 景山公园 北京', 'article_editor': '郑亚鹏', 'category': ' 社会万象', 'relative_topics': '聚焦新型冠状病毒肺炎疫情'}\n"
     ]
    }
   ],
   "source": [
    "url = \"https://news.sina.com.cn/c/2020-04-09/doc-iircuyvh6810407.shtml\"\n",
    "n = SinaNews(url)\n",
    "await n.go()\n",
    "print(n.data)"
   ]
  },
  {
   "cell_type": "code",
   "execution_count": 10,
   "metadata": {},
   "outputs": [],
   "source": [
    "import datetime\n",
    "\n",
    "async def __test_latest_news(limit_pages = 1000):\n",
    "    def get_page_url(pid):\n",
    "        pid = int(pid)\n",
    "        return \"https://news.sina.com.cn/roll/#pageid=153&lid=2509&k=&num=50&page={}\".format(pid)\n",
    "    pid = 0\n",
    "    \n",
    "    \n",
    "    async def next_page(pid):\n",
    "        pid += 1\n",
    "        s = requests_html.AsyncHTMLSession()\n",
    "        r = await s.get(get_page_url(pid))\n",
    "        await r.html.arender()\n",
    "        bs = bs4.BeautifulSoup(r.html.html, 'html.parser')\n",
    "        links = bs.find_all('a')[6:]\n",
    "        return pid, links\n",
    "    \n",
    "    \n",
    "    cnt = 0\n",
    "    today = datetime.date.today()\n",
    "    tasks = []\n",
    "    while True:\n",
    "        pid, links = await next_page(pid)\n",
    "        for link in links:\n",
    "            print(link.text, link['href'])\n",
    "            n = SinaNews(link['href'])\n",
    "            task = asyncio.create_task(n.go())\n",
    "            tasks.append(task)\n",
    "            cnt += 1\n",
    "            if cnt % 50 == 0:\n",
    "                break\n",
    "            if cnt == limit_pages:\n",
    "                break\n",
    "        if cnt == limit_pages:\n",
    "            break\n",
    "            \n",
    "            \n",
    "    res = []\n",
    "    for task in tasks:\n",
    "        n = await task\n",
    "        res.append(n)\n",
    "            \n",
    "    return res\n",
    "\n"
   ]
  },
  {
   "cell_type": "code",
   "execution_count": null,
   "metadata": {},
   "outputs": [],
   "source": [
    "res = await __test_latest_news(20)"
   ]
  },
  {
   "cell_type": "markdown",
   "metadata": {},
   "source": [
    "测试基本完成，但是滚动页面最多只能实现50页。分析选择往日回顾的模式，采用另一种方案"
   ]
  },
  {
   "cell_type": "code",
   "execution_count": 11,
   "metadata": {},
   "outputs": [],
   "source": [
    "def getNewsFromDate(d: datetime.date):\n",
    "    def date_to_datetime(d):\n",
    "        return datetime.datetime(d.year, d.month, d.day)\n",
    "\n",
    "    def timestamp(d):\n",
    "        return (date_to_datetime(d) - datetime.datetime(1970, 1, 1)) / datetime.timedelta(seconds=1)\n",
    "    \n",
    "    dt = date_to_datetime(d)\n",
    "    \n",
    "    \n",
    "    stime = d + datetime.timedelta(hours=4)\n",
    "    etime = d - datetime.timedelta(days=1)\n",
    "    ctime = dt\n",
    "    \n",
    "    url = '''https://news.sina.com.cn/roll/#pageid=153&lid=2509&etime={}&stime={}&\n",
    "    ctime={}&date={}&k=&num=50'''.format(timestamp(etime), timestamp(stime), timestamp(ctime), d.strftime('%Y-%m-%d'))\n",
    "    return url\n"
   ]
  },
  {
   "cell_type": "markdown",
   "metadata": {},
   "source": [
    "测试一下最近三天，每天10篇新闻"
   ]
  },
  {
   "cell_type": "code",
   "execution_count": 21,
   "metadata": {},
   "outputs": [],
   "source": [
    "from itertools import chain\n",
    "\n",
    "async def getNewsFromDaysDuration(daysl: int, daysr: int, limit_num_per_day=0, output_num=5):\n",
    "    async def getNewsFromRollPage(url, limit_num=0, output_num=5):\n",
    "        def get_page_url(pid):\n",
    "            pid = int(pid)\n",
    "            return url + \"&page={}\".format(pid)\n",
    "        \n",
    "        pid = 0\n",
    "        async def next_page(pid):\n",
    "            pid += 1\n",
    "            with requests_html.AsyncHTMLSession() as s:\n",
    "                print(pid, get_page_url(pid))\n",
    "                r = await s.get(get_page_url(pid))\n",
    "                \n",
    "                await r.html.arender()\n",
    "                bs = bs4.BeautifulSoup(r.html.html, 'html.parser')\n",
    "                links = bs.find_all('a')[9:]\n",
    "                \n",
    "#             print(links)\n",
    "            return pid, links\n",
    "\n",
    "\n",
    "        cnt = 0\n",
    "        today = datetime.date.today()\n",
    "        tasks = []\n",
    "        res = []\n",
    "        while True:\n",
    "            pid, links = await next_page(pid)\n",
    "            for link in links:\n",
    "                if cnt % output_num == 0:\n",
    "                    print(f\"#{cnt}\", link.text, link['href'])\n",
    "                \n",
    "                try:\n",
    "                    n = SinaNews(link['href'])\n",
    "                    res.append(n)\n",
    "                    tasks.append(asyncio.create_task(n.go()))\n",
    "                    cnt += 1\n",
    "                except:\n",
    "                    print(\"something wrong with news url: {}\".format(link))\n",
    "                    \n",
    "                if cnt == limit_num:\n",
    "                    break\n",
    "                if cnt % 50 == 0:\n",
    "                    break\n",
    "            if cnt == limit_num:\n",
    "                break\n",
    "        \n",
    "        for task in tasks:\n",
    "            await task\n",
    "            \n",
    "        return res\n",
    "    \n",
    "    \n",
    "    today = datetime.date.today()\n",
    "    res = []\n",
    "    for i in range(daysl, daysr+1):\n",
    "        print(\"day {} from today\".format(i))\n",
    "        d = today - datetime.timedelta(days=i)\n",
    "        url = getNewsFromDate(d)\n",
    "        try:\n",
    "            res += await getNewsFromRollPage(url, limit_num_per_day, output_num)\n",
    "        except Exception as e:\n",
    "            print(e)\n",
    "            print(\"something wrong when finding news from day {}\".format(i))\n",
    "    \n",
    "    return res"
   ]
  },
  {
   "cell_type": "markdown",
   "metadata": {},
   "source": []
  },
  {
   "cell_type": "code",
   "execution_count": 13,
   "metadata": {},
   "outputs": [
    {
     "name": "stdout",
     "output_type": "stream",
     "text": [
      "day 1 from today\n",
      "1 https://news.sina.com.cn/roll/#pageid=153&lid=2509&etime=1586304000.0&stime=1586390400.0&\n",
      "    ctime=1586390400.0&date=2020-04-09&k=&num=50&page=1\n"
     ]
    },
    {
     "name": "stderr",
     "output_type": "stream",
     "text": [
      "/home/weaverzhu/.local/lib/python3.8/site-packages/requests/sessions.py:421: RuntimeWarning: coroutine 'AsyncHTMLSession.close' was never awaited\n",
      "  self.close()\n",
      "RuntimeWarning: Enable tracemalloc to get the object allocation traceback\n"
     ]
    },
    {
     "name": "stdout",
     "output_type": "stream",
     "text": [
      "#0 美移民律师：很多中国客户因疫情失业 也回不了中国 https://news.sina.com.cn/w/2020-04-10/doc-iirczymi5399549.shtml\n",
      "#5 中国要“接管”全球？美前外交官：担忧被极大夸大 https://finance.sina.com.cn/world/gjcj/2020-04-10/doc-iirczymi5398964.shtml\n",
      "day 2 from today\n",
      "1 https://news.sina.com.cn/roll/#pageid=153&lid=2509&etime=1586217600.0&stime=1586304000.0&\n",
      "    ctime=1586304000.0&date=2020-04-08&k=&num=50&page=1\n",
      "#0 充电桩：新基建 迈向新能源汽车时代 https://finance.sina.com.cn/stock/stockzmt/2020-04-09/doc-iirczymi5206529.shtml\n",
      "#5 为遏制疫情蔓延 阿曼关闭首都所有陆路出入口 https://news.sina.com.cn/w/2020-04-09/doc-iirczymi5203902.shtml\n",
      "day 3 from today\n",
      "1 https://news.sina.com.cn/roll/#pageid=153&lid=2509&etime=1586131200.0&stime=1586217600.0&\n",
      "    ctime=1586217600.0&date=2020-04-07&k=&num=50&page=1\n",
      "#0 任泽平分析全球疫情：欧美陆续现拐点 但有长尾特征 https://finance.sina.com.cn/review/mspl/2020-04-08/doc-iimxxsth4181599.shtml\n",
      "#5 长城证券：市场驱动因素有望从流动性转向基本面 https://finance.sina.com.cn/stock/stockzmt/2020-04-08/doc-iimxyqwa5620161.shtml\n"
     ]
    }
   ],
   "source": [
    "news = await getNewsFromDaysDuration(3, 10)"
   ]
  },
  {
   "cell_type": "code",
   "execution_count": null,
   "metadata": {},
   "outputs": [],
   "source": [
    "print(news)"
   ]
  },
  {
   "cell_type": "code",
   "execution_count": 14,
   "metadata": {},
   "outputs": [
    {
     "data": {
      "text/html": [
       "<div>\n",
       "<style scoped>\n",
       "    .dataframe tbody tr th:only-of-type {\n",
       "        vertical-align: middle;\n",
       "    }\n",
       "\n",
       "    .dataframe tbody tr th {\n",
       "        vertical-align: top;\n",
       "    }\n",
       "\n",
       "    .dataframe thead th {\n",
       "        text-align: right;\n",
       "    }\n",
       "</style>\n",
       "<table border=\"1\" class=\"dataframe\">\n",
       "  <thead>\n",
       "    <tr style=\"text-align: right;\">\n",
       "      <th></th>\n",
       "      <th>main_title</th>\n",
       "      <th>publish_date</th>\n",
       "      <th>source</th>\n",
       "      <th>content</th>\n",
       "      <th>key_words</th>\n",
       "      <th>article_editor</th>\n",
       "      <th>category</th>\n",
       "      <th>relative_topics</th>\n",
       "    </tr>\n",
       "  </thead>\n",
       "  <tbody>\n",
       "    <tr>\n",
       "      <th>0</th>\n",
       "      <td>美移民律师：很多中国客户因疫情失业 也回不了中国|疫情|新冠肺炎|美国_新浪新闻</td>\n",
       "      <td>2020-04-10 00:00:00</td>\n",
       "      <td>环球网</td>\n",
       "      <td>原标题：美国移民律师：很多中国客户因为疫情失业，也回不了中国　　美国CNN在一篇最新报道...</td>\n",
       "      <td>疫情 新冠肺炎 美国</td>\n",
       "      <td>吴金明</td>\n",
       "      <td>国内新闻</td>\n",
       "      <td>聚焦新型冠状病毒肺炎疫情 全球多国爆发新冠肺炎疫情 美国成疫情“震中”</td>\n",
       "    </tr>\n",
       "    <tr>\n",
       "      <th>1</th>\n",
       "      <td>林义相：“启动股市，接力房市”的政策取向不应该变|疫情_新浪财经_新浪网</td>\n",
       "      <td>2020-04-09 23:59:00</td>\n",
       "      <td>新浪财经-自媒体综合</td>\n",
       "      <td>来源：乐趣投资　　关注乐趣投资的人，都能找到人生乐趣　　“启动股市，接力房市”，是中国经...</td>\n",
       "      <td>疫情 股票市场</td>\n",
       "      <td>常福强</td>\n",
       "      <td>基金</td>\n",
       "      <td>None</td>\n",
       "    </tr>\n",
       "    <tr>\n",
       "      <th>2</th>\n",
       "      <td>立陶宛新增43例新冠肺炎确诊病例 累计955例|立陶宛|新冠肺炎_新浪新闻</td>\n",
       "      <td>2020-04-09 23:59:00</td>\n",
       "      <td>央视</td>\n",
       "      <td>原标题：立陶宛新增43例新冠肺炎确诊病例 累计955例　　当地时间4月9日，波罗的海新闻...</td>\n",
       "      <td>立陶宛 新冠肺炎</td>\n",
       "      <td>吴金明</td>\n",
       "      <td>国际新闻</td>\n",
       "      <td>聚焦新型冠状病毒肺炎疫情 全球多国爆发新冠肺炎疫情</td>\n",
       "    </tr>\n",
       "    <tr>\n",
       "      <th>3</th>\n",
       "      <td>警方通报鲍某某性侵事件：决定再次立案 目前仍在侦查_新浪财经_新浪网</td>\n",
       "      <td>2020-04-09 23:58:00</td>\n",
       "      <td>新浪财经</td>\n",
       "      <td>如何在结构性行情中开展投资布局？新浪财经《基金直播间》，邀请基金经理在线路演解读市场。　　新...</td>\n",
       "      <td></td>\n",
       "      <td>王帅</td>\n",
       "      <td>证券</td>\n",
       "      <td>None</td>\n",
       "    </tr>\n",
       "    <tr>\n",
       "      <th>4</th>\n",
       "      <td>武汉“解封”首日到底多少人出城？流向何处？|航班|旅客列车|新冠肺炎_新浪新闻</td>\n",
       "      <td>2020-04-09 23:57:00</td>\n",
       "      <td>红星新闻</td>\n",
       "      <td>原标题：武汉“解封”首日到底多少人出城？流向何处？　　4月8日零时，全国新冠肺炎疫情防控...</td>\n",
       "      <td>航班 旅客列车 新冠肺炎 武汉 湖北</td>\n",
       "      <td>吴金明</td>\n",
       "      <td>国内新闻</td>\n",
       "      <td>聚焦新型冠状病毒肺炎疫情</td>\n",
       "    </tr>\n",
       "  </tbody>\n",
       "</table>\n",
       "</div>"
      ],
      "text/plain": [
       "                                 main_title        publish_date      source  \\\n",
       "0  美移民律师：很多中国客户因疫情失业 也回不了中国|疫情|新冠肺炎|美国_新浪新闻 2020-04-10 00:00:00         环球网   \n",
       "1      林义相：“启动股市，接力房市”的政策取向不应该变|疫情_新浪财经_新浪网 2020-04-09 23:59:00  新浪财经-自媒体综合   \n",
       "2     立陶宛新增43例新冠肺炎确诊病例 累计955例|立陶宛|新冠肺炎_新浪新闻 2020-04-09 23:59:00          央视   \n",
       "3        警方通报鲍某某性侵事件：决定再次立案 目前仍在侦查_新浪财经_新浪网 2020-04-09 23:58:00        新浪财经   \n",
       "4   武汉“解封”首日到底多少人出城？流向何处？|航班|旅客列车|新冠肺炎_新浪新闻 2020-04-09 23:57:00        红星新闻   \n",
       "\n",
       "                                             content           key_words  \\\n",
       "0  　　原标题：美国移民律师：很多中国客户因为疫情失业，也回不了中国　　美国CNN在一篇最新报道...          疫情 新冠肺炎 美国   \n",
       "1  　　来源：乐趣投资　　关注乐趣投资的人，都能找到人生乐趣　　“启动股市，接力房市”，是中国经...             疫情 股票市场   \n",
       "2  　　原标题：立陶宛新增43例新冠肺炎确诊病例 累计955例　　当地时间4月9日，波罗的海新闻...            立陶宛 新冠肺炎   \n",
       "3  如何在结构性行情中开展投资布局？新浪财经《基金直播间》，邀请基金经理在线路演解读市场。　　新...                       \n",
       "4  　　原标题：武汉“解封”首日到底多少人出城？流向何处？　　4月8日零时，全国新冠肺炎疫情防控...  航班 旅客列车 新冠肺炎 武汉 湖北   \n",
       "\n",
       "  article_editor category                      relative_topics  \n",
       "0            吴金明     国内新闻  聚焦新型冠状病毒肺炎疫情 全球多国爆发新冠肺炎疫情 美国成疫情“震中”  \n",
       "1            常福强       基金                                 None  \n",
       "2            吴金明     国际新闻            聚焦新型冠状病毒肺炎疫情 全球多国爆发新冠肺炎疫情  \n",
       "3             王帅       证券                                 None  \n",
       "4            吴金明     国内新闻                         聚焦新型冠状病毒肺炎疫情  "
      ]
     },
     "execution_count": 14,
     "metadata": {},
     "output_type": "execute_result"
    }
   ],
   "source": [
    "df = dump(r, news)\n",
    "df.to_csv('sample2.csv')\n",
    "df.head()\n"
   ]
  },
  {
   "cell_type": "markdown",
   "metadata": {},
   "source": [
    "查看缺失情况"
   ]
  },
  {
   "cell_type": "code",
   "execution_count": 15,
   "metadata": {
    "scrolled": true
   },
   "outputs": [
    {
     "name": "stdout",
     "output_type": "stream",
     "text": [
      "main_title 0\n",
      "publish_date 0\n",
      "source 0\n",
      "content 0\n",
      "key_words 0\n",
      "article_editor 1\n",
      "category 0\n",
      "relative_topics 14\n"
     ]
    }
   ],
   "source": [
    "for attr in df:\n",
    "    print(attr, df[attr].isnull().sum())"
   ]
  },
  {
   "cell_type": "markdown",
   "metadata": {},
   "source": [
    "测试收集一天的所有新闻，新浪新闻每天只有50页保存，每页50个新闻，因此一天只有2500新闻最多可以保存"
   ]
  },
  {
   "cell_type": "code",
   "execution_count": 16,
   "metadata": {},
   "outputs": [
    {
     "name": "stdout",
     "output_type": "stream",
     "text": [
      "day 1 from today\n",
      "1 https://news.sina.com.cn/roll/#pageid=153&lid=2509&etime=1586304000.0&stime=1586390400.0&\n",
      "    ctime=1586390400.0&date=2020-04-09&k=&num=50&page=1\n"
     ]
    },
    {
     "name": "stderr",
     "output_type": "stream",
     "text": [
      "/home/weaverzhu/.local/lib/python3.8/site-packages/requests/sessions.py:421: RuntimeWarning: coroutine 'AsyncHTMLSession.close' was never awaited\n",
      "  self.close()\n",
      "RuntimeWarning: Enable tracemalloc to get the object allocation traceback\n"
     ]
    },
    {
     "name": "stdout",
     "output_type": "stream",
     "text": [
      "#0 美移民律师：很多中国客户因疫情失业 也回不了中国 https://news.sina.com.cn/w/2020-04-10/doc-iirczymi5399549.shtml\n",
      "#10 爱奇艺股价攀升；瑞穗认为其收入确认方法与行业一致 https://finance.sina.com.cn/stock/usstock/c/2020-04-09/doc-iircuyvh6868545.shtml\n",
      "#20 “华为汽车”被曝有望今年落地 华为回应：进行中 https://finance.sina.com.cn/chanjing/gsnews/2020-04-10/doc-iircuyvh6868873.shtml\n",
      "#30 美媒：这场疫情物资争夺战，穷国被富国挤得靠边站 https://news.sina.com.cn/w/2020-04-09/doc-iirczymi5397094.shtml\n",
      "#40 股票基金再现一日售罄 认购金额超上限80亿 https://finance.sina.com.cn/roll/2020-04-09/doc-iircuyvh6866605.shtml\n",
      "2 https://news.sina.com.cn/roll/#pageid=153&lid=2509&etime=1586304000.0&stime=1586390400.0&\n",
      "    ctime=1586390400.0&date=2020-04-09&k=&num=50&page=2\n",
      "#50 南非团结基金将为困难家庭提供粮食救济 https://finance.sina.com.cn/roll/2020-04-09/doc-iircuyvh6866616.shtml\n",
      "#60 武汉“封城”之前，我们究竟做了什么？ https://news.sina.com.cn/c/2020-04-09/doc-iirczymi5395971.shtml\n",
      "#70 拉卡拉2019净利润同比增34.5% https://finance.sina.com.cn/stock/s/2020-04-09/doc-iircuyvh6864893.shtml\n",
      "#80 2.3万亿美元 美联储又撒钱了 https://finance.sina.com.cn/stock/stockptd/2020-04-09/doc-iircuyvh6863768.shtml\n",
      "#90 内蒙古巴彦淖尔市委常委、常务副市长郭刚被带走调查 https://news.sina.com.cn/o/2020-04-09/doc-iirczymi5393524.shtml\n",
      "3 https://news.sina.com.cn/roll/#pageid=153&lid=2509&etime=1586304000.0&stime=1586390400.0&\n",
      "    ctime=1586390400.0&date=2020-04-09&k=&num=50&page=3\n",
      "#100 熊孩子喊奶奶眨眼点头骗绑银行卡 打游戏充值花5万多 https://news.sina.com.cn/s/2020-04-10/doc-iircuyvh6863820.shtml\n",
      "#110 欧佩克+以及其他产油国将讨论减产高达2000万桶/日 原油拉升 https://finance.sina.com.cn/world/2020-04-09/doc-iircuyvh6861796.shtml\n",
      "#120 广东省紫金县发生山体崩塌 3人死亡 https://news.sina.com.cn/c/2020-04-09/doc-iircuyvh6861913.shtml\n",
      "#130 经济学家评完善股市基础制度：市场信心进一步提升 https://finance.sina.com.cn/stock/stocktalk/2020-04-09/doc-iircuyvh6860762.shtml\n",
      "#140 新华微评：坚守社区防线，再立战“疫”新功 https://news.sina.com.cn/c/2020-04-09/doc-iirczymi5389904.shtml\n",
      "4 https://news.sina.com.cn/roll/#pageid=153&lid=2509&etime=1586304000.0&stime=1586390400.0&\n",
      "    ctime=1586390400.0&date=2020-04-09&k=&num=50&page=4\n",
      "#150 全聚德：董事长鲍民因达到法定退休年龄辞职 https://finance.sina.com.cn/roll/2020-04-09/doc-iircuyvh6859856.shtml\n",
      "#160 博通集成：2019年净利同比翻倍 ETC芯片出货量大增 https://finance.sina.com.cn/stock/s/2020-04-09/doc-iirczymi5388081.shtml\n",
      "#170 纽约医生实拍急症室：所有病房塞满了病人 https://news.sina.com.cn/w/2020-04-09/doc-iirczymi5388330.shtml\n",
      "#180 B站获索尼4亿美元战略投资 双方将在多个领域展开合作 https://finance.sina.com.cn/chanjing/gsnews/2020-04-10/doc-iircuyvh6858735.shtml\n",
      "#190 苹果帮助斯坦福医学开发新App 方便一线人员检测病毒 https://tech.sina.com.cn/i/2020-04-09/doc-iirczymi5387202.shtml\n",
      "5 https://news.sina.com.cn/roll/#pageid=153&lid=2509&etime=1586304000.0&stime=1586390400.0&\n",
      "    ctime=1586390400.0&date=2020-04-09&k=&num=50&page=5\n",
      "#200 余承东：库存积压是谣言 华为全场景体验远超苹果 https://finance.sina.com.cn/chanjing/gsnews/2020-04-09/doc-iircuyvh6857236.shtml\n",
      "#210 中概股做空真相：养肥后的宰杀 http://tech.sina.com.cn/csj/2020-04-09/doc-iirczymi5385890.shtml\n",
      "#220 火箭三级工作异常 我国长征三号乙发射印尼卫星失利 https://news.sina.com.cn/c/2020-04-09/doc-iirczymi5385493.shtml\n",
      "#230 财政部：5月1日起销售二手车减按0.5%征收增值税 https://finance.sina.com.cn/chanjing/cyxw/2020-04-09/doc-iircuyvh6855291.shtml\n",
      "#240 侠客岛：西方政客要找中国“清算”？怼回去！ https://finance.sina.com.cn/china/gncj/2020-04-09/doc-iirczymi5386042.shtml\n",
      "6 https://news.sina.com.cn/roll/#pageid=153&lid=2509&etime=1586304000.0&stime=1586390400.0&\n",
      "    ctime=1586390400.0&date=2020-04-09&k=&num=50&page=6\n",
      "#250 FED扩大宽松行动助欧元走高80余点 美油剧震近10% https://finance.sina.com.cn/money/forex/hbfx/2020-04-09/doc-iirczymi5384235.shtml\n",
      "#260 国六推后、限迁取消、补贴延续 四部委支招稳定汽车消费 https://finance.sina.com.cn/chanjing/cyxw/2020-04-09/doc-iirczymi5385587.shtml\n",
      "#270 再增660万人！美国三周近10%劳动力失业 https://news.sina.com.cn/w/2020-04-09/doc-iirczymi5386929.shtml\n",
      "#280 酒驾男仗着体校毕业撒腿就跑 没想到民警更能跑 https://news.sina.com.cn/s/2020-04-09/doc-iirczymi5386539.shtml\n",
      "#290 缅甸首个新冠肺炎治愈病例出院 https://news.sina.com.cn/w/2020-04-09/doc-iircuyvh6852454.shtml\n",
      "7 https://news.sina.com.cn/roll/#pageid=153&lid=2509&etime=1586304000.0&stime=1586390400.0&\n",
      "    ctime=1586390400.0&date=2020-04-09&k=&num=50&page=7\n",
      "#300 铁矿石阶段涨势可待 https://finance.sina.com.cn/money/future/roll/2020-04-09/doc-iirczymi5393872.shtml\n",
      "#310 2020蓝筹地产评审会：后疫情时代 房地产的“危”与“机” https://finance.sina.com.cn/chanjing/cyxw/2020-04-09/doc-iircuyvh6850996.shtml\n",
      "#320 IMF：全球经济将出现大萧条以来最严重的衰退 https://finance.sina.com.cn/money/forex/forexinfo/2020-04-09/doc-iircuyvh6850676.shtml\n",
      "#330 傲农生物：一季度净利同比增768% 预计上半年净利大增 https://finance.sina.com.cn/stock/s/2020-04-09/doc-iircuyvh6848784.shtml\n",
      "#340 中超减薪应该“中欧有别”？怎么减成了关键 https://finance.sina.com.cn/chanjing/cyxw/2020-04-09/doc-iirczymi5378267.shtml\n",
      "8 https://news.sina.com.cn/roll/#pageid=153&lid=2509&etime=1586304000.0&stime=1586390400.0&\n",
      "    ctime=1586390400.0&date=2020-04-09&k=&num=50&page=8\n",
      "#350 B站获索尼4亿美元战略投资 双方将在多领域展开合作 https://tech.sina.com.cn/i/2020-04-09/doc-iircuyvh6847345.shtml\n",
      "#360 全球护士有多大缺口？WHO：590万 https://finance.sina.com.cn/world/gjcj/2020-04-09/doc-iirczymi5376914.shtml\n",
      "#370 诚迈科技：预计一季度亏损3800万元-4300万元 https://finance.sina.com.cn/stock/s/2020-04-09/doc-iircuyvh6846040.shtml\n",
      "#380 日本新增520例新冠肺炎确诊病例 累计5492例 https://news.sina.com.cn/w/2020-04-09/doc-iircuyvh6845759.shtml\n",
      "#390 鹰眼预警:广东骏亚营收净利大幅背离 短债偿还承压 https://finance.sina.com.cn/stock/observe/2020-04-09/doc-iirczymi5374744.shtml\n",
      "9 https://news.sina.com.cn/roll/#pageid=153&lid=2509&etime=1586304000.0&stime=1586390400.0&\n",
      "    ctime=1586390400.0&date=2020-04-09&k=&num=50&page=9\n",
      "#400 巴林新增34例新冠肺炎确诊病例 累计855例 https://news.sina.com.cn/w/2020-04-09/doc-iirczymi5374808.shtml\n",
      "#410 华邦健康：子公司筹划申请首次公开发行股票并上市 https://finance.sina.com.cn/stock/s/2020-04-09/doc-iircuyvh6843926.shtml\n",
      "#420 英国首相发言人：约翰逊身体状况持续改善 https://news.sina.com.cn/w/2020-04-09/doc-iirczymi5373631.shtml\n",
      "#430 网络涉黄、新闻敲诈、侵权盗版等四类问题将被大扫除 https://tech.sina.com.cn/i/2020-04-09/doc-iirczymi5371978.shtml\n",
      "#440 吃狗肉将成为历史？农业农村部：狗已特化为伴侣动物 https://finance.sina.com.cn/chanjing/cyxw/2020-04-09/doc-iircuyvh6852371.shtml\n",
      "10 https://news.sina.com.cn/roll/#pageid=153&lid=2509&etime=1586304000.0&stime=1586390400.0&\n",
      "    ctime=1586390400.0&date=2020-04-09&k=&num=50&page=10\n",
      "#450 四川对煤矿矿长打分：预计下月执行 最重罚5年禁业 https://news.sina.com.cn/c/2020-04-09/doc-iircuyvh6840962.shtml\n",
      "#460 时隔一个月“日光基”再现：新基金发行冰火两重天 https://finance.sina.com.cn/roll/2020-04-09/doc-iircuyvh6840734.shtml\n",
      "#470 作别兴业银行 李卫民或后来居上执掌福建省联社帅印 https://finance.sina.com.cn/money/bank/gsdt/2020-04-09/doc-iircuyvh6839842.shtml\n",
      "#480 产品如期报产、商业运营团队到位 泽璟制药首战能否过关？ https://finance.sina.com.cn/stock/s/2020-04-09/doc-iircuyvh6839864.shtml\n",
      "#490 商务部：将进一步加强出口医疗物资质量监管 https://finance.sina.com.cn/china/gncj/2020-04-09/doc-iirczymi5368077.shtml\n"
     ]
    }
   ],
   "source": [
    "news = await getNewsFromDaysDuration(1, 14, 500, 10)"
   ]
  },
  {
   "cell_type": "code",
   "execution_count": 17,
   "metadata": {},
   "outputs": [
    {
     "data": {
      "text/plain": [
       "500"
      ]
     },
     "execution_count": 17,
     "metadata": {},
     "output_type": "execute_result"
    }
   ],
   "source": [
    "len(news)"
   ]
  },
  {
   "cell_type": "code",
   "execution_count": 20,
   "metadata": {},
   "outputs": [],
   "source": [
    "df = dump(r, news)\n",
    "df.head()\n",
    "# df.describe()\n",
    "df.to_csv('0410.csv')"
   ]
  },
  {
   "cell_type": "code",
   "execution_count": null,
   "metadata": {},
   "outputs": [
    {
     "name": "stdout",
     "output_type": "stream",
     "text": [
      "day 2 from today\n",
      "1 https://news.sina.com.cn/roll/#pageid=153&lid=2509&etime=1586217600.0&stime=1586304000.0&\n",
      "    ctime=1586304000.0&date=2020-04-08&k=&num=50&page=1\n"
     ]
    },
    {
     "name": "stderr",
     "output_type": "stream",
     "text": [
      "/home/weaverzhu/.local/lib/python3.8/site-packages/requests/sessions.py:421: RuntimeWarning: coroutine 'AsyncHTMLSession.close' was never awaited\n",
      "  self.close()\n",
      "RuntimeWarning: Enable tracemalloc to get the object allocation traceback\n"
     ]
    },
    {
     "name": "stdout",
     "output_type": "stream",
     "text": [
      "#0 充电桩：新基建 迈向新能源汽车时代 https://finance.sina.com.cn/stock/stockzmt/2020-04-09/doc-iirczymi5206529.shtml\n",
      "#20 荣盛发展：为何不对一笔6.25亿款项计提坏账？ https://finance.sina.com.cn/stock/s/2020-04-08/doc-iircuyvh6673505.shtml\n",
      "#40 爱奇艺CEO龚宇回应被做空：邪不压正 看最后谁赢！ https://finance.sina.com.cn/stock/relnews/us/2020-04-08/doc-iirczymi5202401.shtml\n",
      "2 https://news.sina.com.cn/roll/#pageid=153&lid=2509&etime=1586217600.0&stime=1586304000.0&\n",
      "    ctime=1586304000.0&date=2020-04-08&k=&num=50&page=2\n",
      "#60 美国确诊近40万例！美专家预计今秋形势会明显改善 https://news.sina.com.cn/w/2020-04-08/doc-iircuyvh6672251.shtml\n",
      "#80 意大利因新冠肺炎疫情禁止难民船靠岸 https://news.sina.com.cn/w/2020-04-08/doc-iircuyvh6670599.shtml\n",
      "3 https://news.sina.com.cn/roll/#pageid=153&lid=2509&etime=1586217600.0&stime=1586304000.0&\n",
      "    ctime=1586304000.0&date=2020-04-08&k=&num=50&page=3\n",
      "#100 OPEC+会议召开在即：特朗普推脱减产 俄沙再生分歧 https://finance.sina.com.cn/wm/2020-04-08/doc-iirczymi5198495.shtml\n",
      "#120 尼日利亚向国际金融机构寻求35亿美元预算资金 https://finance.sina.com.cn/roll/2020-04-09/doc-iirczymi5197578.shtml\n",
      "#140 武磊：已康复但未核酸复测，隔离期第一次下厨做饭 https://news.sina.com.cn/c/2020-04-08/doc-iirczymi5195653.shtml\n",
      "4 https://news.sina.com.cn/roll/#pageid=153&lid=2509&etime=1586217600.0&stime=1586304000.0&\n",
      "    ctime=1586304000.0&date=2020-04-08&k=&num=50&page=4\n",
      "#160 企业抗疫复产典型事迹|中铁股份：战疫复工中彰显担当 https://finance.sina.com.cn/chanjing/gsnews/2020-04-08/doc-iircuyvh6665137.shtml\n",
      "#180 企业抗疫复产典型事迹|北汽集团：双线战“疫” https://finance.sina.com.cn/chanjing/gsnews/2020-04-08/doc-iircuyvh6664003.shtml\n",
      "5 https://news.sina.com.cn/roll/#pageid=153&lid=2509&etime=1586217600.0&stime=1586304000.0&\n",
      "    ctime=1586304000.0&date=2020-04-08&k=&num=50&page=5\n",
      "#200 地方金融监管条例落地后 天津首开顶格罚单合计40万 https://news.sina.com.cn/c/2020-04-08/doc-iirczymi5192361.shtml\n",
      "#220 天津新增1例境外输入确诊病例，累计报告45例 https://news.sina.com.cn/c/2020-04-08/doc-iirczymi5194254.shtml\n",
      "#240 企业抗疫复产典型事迹|瓮福达州：深化命运共同体理念 https://finance.sina.com.cn/chanjing/gsnews/2020-04-08/doc-iircuyvh6661291.shtml\n",
      "6 https://news.sina.com.cn/roll/#pageid=153&lid=2509&etime=1586217600.0&stime=1586304000.0&\n",
      "    ctime=1586304000.0&date=2020-04-08&k=&num=50&page=6\n"
     ]
    }
   ],
   "source": [
    "for i in range(2, 14):\n",
    "    news = await getNewsFromDaysDuration(i, i+1, 2500, 20)\n",
    "    df = dump(r, news)\n",
    "    df.to_csv(f'{i}.csv')"
   ]
  }
 ],
 "metadata": {
  "kernelspec": {
   "display_name": "Python 3.8.0 64-bit",
   "language": "python",
   "name": "python38064bita164133e3aa9438ead1ae1395985b6e6"
  },
  "language_info": {
   "codemirror_mode": {
    "name": "ipython",
    "version": 3
   },
   "file_extension": ".py",
   "mimetype": "text/x-python",
   "name": "python",
   "nbconvert_exporter": "python",
   "pygments_lexer": "ipython3",
   "version": "3.8.0"
  }
 },
 "nbformat": 4,
 "nbformat_minor": 4
}
