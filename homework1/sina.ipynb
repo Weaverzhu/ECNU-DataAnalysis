{
 "cells": [
  {
   "cell_type": "markdown",
   "metadata": {},
   "source": [
    "## 爬取新浪网的新闻\n",
    "\n",
    "+ 使用 selenium 请求内容\n",
    "+ 使用 bs4 解析 html\n",
    "\n",
    "### 大致思路\n",
    "\n",
    "1. 爬取滚动\n",
    "1. 判断时间是否在两周内，如果是则爬取"
   ]
  },
  {
   "cell_type": "markdown",
   "metadata": {},
   "source": [
    "准备"
   ]
  },
  {
   "cell_type": "code",
   "execution_count": 3,
   "metadata": {},
   "outputs": [],
   "source": [
    "import bs4\n",
    "import requests_html\n",
    "import asyncio\n",
    "import requests\n",
    "\n",
    "\n",
    "\n",
    "SINA_URL = 'https://news.sina.com.cn/roll/'\n",
    "\n",
    "# browser.close()"
   ]
  },
  {
   "cell_type": "markdown",
   "metadata": {},
   "source": [
    "找出链接, 顺便写一个获取最新新闻链接的函数，从第六个链接开始忽略前面的非新闻链接"
   ]
  },
  {
   "cell_type": "code",
   "execution_count": 4,
   "metadata": {},
   "outputs": [
    {
     "name": "stdout",
     "output_type": "stream",
     "text": [
      "[<a href=\"https://finance.sina.com.cn/stock/marketresearch/2020-04-10/doc-iirczymi5564317.shtml\" target=\"_blank\">国盛策略：反弹后 全球及A股估值水平如何？</a>, <a href=\"https://finance.sina.com.cn/jryx/2020-04-10/doc-iircuyvh7033664.shtml\" target=\"_blank\">邮储银行嘉兴市分行被罚125万：因贷款发放不审慎等</a>, <a href=\"https://finance.sina.com.cn/money/future/fmnews/2020-04-10/doc-iircuyvh7033544.shtml\" target=\"_blank\">一德期货佘建跃：欧佩克+减产有助于油市长期供需平衡</a>, <a href=\"https://finance.sina.com.cn/stock/s/2020-04-10/doc-iirczymi5564061.shtml\" target=\"_blank\">方正证券：向法院起诉请求判令长乐汇等偿还融资本息</a>, <a href=\"https://finance.sina.com.cn/stock/s/2020-04-10/doc-iircuyvh7033450.shtml\" target=\"_blank\">方正证券：请求法院判令长乐汇等偿还融资本金及利息</a>, <a href=\"https://finance.sina.com.cn/jryx/2020-04-10/doc-iircuyvh7032940.shtml\" target=\"_blank\">厦门天地安保险代理被责令停止接受新业务3年:妨碍依法监督检查</a>, <a href=\"https://news.sina.com.cn/w/2020-04-10/doc-iircuyvh7032998.shtml\" target=\"_blank\">西班牙新增605例新冠肺炎死亡病例，系17天以来最低</a>, <a href=\"https://finance.sina.com.cn/money/insurance/bxdt/2020-04-10/doc-iirczymi5562411.shtml\" target=\"_blank\">人保集团迎来新总裁 王廷科何许人也？</a>, <a href=\"https://finance.sina.com.cn/stock/s/2020-04-10/doc-iirczymi5564292.shtml\" target=\"_blank\">中信集团副总经理调任中国信保党委副书记 任总经理</a>, <a href=\"https://finance.sina.com.cn/money/insurance/bxdt/2020-04-10/doc-iirczymi5563058.shtml\" target=\"_blank\">中信集团副总经理蔡希良调任中国信保党委副书记</a>, <a href=\"https://finance.sina.com.cn/stock/s/2020-04-10/doc-iircuyvh7031780.shtml\" target=\"_blank\">今世缘：持股5.43%的股东上海铭大拟减持不超过2%</a>, <a href=\"https://finance.sina.com.cn/stock/observe/2020-04-10/doc-iirczymi5562282.shtml\" target=\"_blank\">*ST新亿未及时披露财报 被警告并罚30万</a>, <a href=\"https://finance.sina.com.cn/chanjing/gsnews/2020-04-10/doc-iirczymi5562581.shtml\" target=\"_blank\">吉利集团欲收购神州租车？吉利回应：没有这样的计划</a>, <a href=\"https://finance.sina.com.cn/chanjing/gsnews/2020-04-10/doc-iircuyvh7032044.shtml\" target=\"_blank\">神州泰岳：能否持续参与“5G消息”业务尚存在不确定性</a>, <a href=\"https://news.sina.com.cn/c/2020-04-10/doc-iircuyvh7032030.shtml\" target=\"_blank\">李可隔离结束即将归队 国安集训再添大将</a>, <a href=\"https://finance.sina.com.cn/roll/2020-04-10/doc-iircuyvh7032021.shtml\" target=\"_blank\">中汽协：3月车市恢复好于预期 同比降幅仍超四成</a>, <a href=\"https://finance.sina.com.cn/china/gncj/2020-04-10/doc-iircuyvh7032823.shtml\" target=\"_blank\">疫情在全球蔓延对中国出口有什么具体影响？商务部回应</a>, <a href=\"https://finance.sina.com.cn/stock/observe/2020-04-10/doc-iircuyvh7031365.shtml\" target=\"_blank\">欧浦智网高管违反承诺未增持 被出具警示函</a>, <a href=\"https://finance.sina.com.cn/money/bank/bank_hydt/2020-04-10/doc-iirczymi5561875.shtml\" target=\"_blank\">包商银行改革重组最新进展：拟新设蒙商银行收购承接</a>, <a href=\"https://news.sina.com.cn/w/2020-04-10/doc-iircuyvh7032041.shtml\" target=\"_blank\">科威特新增83例新冠肺炎确诊病例</a>, <a href=\"https://finance.sina.com.cn/stock/stocktalk/2020-04-10/doc-iircuyvh7031284.shtml\" target=\"_blank\">A股10年数据数据 最容易亏钱的策略是追涨短期热门股</a>, <a href=\"https://finance.sina.com.cn/stock/hyyj/2020-04-10/doc-iircuyvh7030782.shtml\" target=\"_blank\">国君:上帝视角看京津冀基建提速 关注\"三北\"水泥需求</a>, <a href=\"https://finance.sina.com.cn/money/bank/gsdt/2020-04-10/doc-iirczymi5561294.shtml\" target=\"_blank\">正式解封后 渣打在武汉增设首家外资行中小企专营支行</a>, <a href=\"https://finance.sina.com.cn/stock/s/2020-04-10/doc-iircuyvh7030409.shtml\" target=\"_blank\">亿纬锂能：实控人及董事长拟合计减持不超过1%</a>, <a href=\"https://finance.sina.com.cn/stock/s/2020-04-10/doc-iircuyvh7030302.shtml\" target=\"_blank\">新力金融：股东海螺水泥计划减持不超过1%公司股份</a>, <a href=\"https://finance.sina.com.cn/roll/2020-04-10/doc-iircuyvh7030411.shtml\" target=\"_blank\">新能源汽车一季度销量下滑56.4％ 政策助推重新爬坡</a>, <a href=\"https://finance.sina.com.cn/stock/zldx/2020-04-10/doc-iirczymi5561601.shtml\" target=\"_blank\">上市险企稳健偏爱银行股 社保基金重仓这只股(名单)</a>, <a href=\"https://finance.sina.com.cn/money/fund/jjh/2020-04-10/doc-iirczymi5560546.shtml\" target=\"_blank\">首只创新药ETF首日成交额超12亿元 居权益类ETF前五</a>, <a href=\"https://news.sina.com.cn/w/2020-04-10/doc-iircuyvh7031325.shtml\" target=\"_blank\">马来西亚新增118例新冠肺炎确诊病例 累计确诊4346例</a>, <a href=\"https://news.sina.com.cn/w/2020-04-10/doc-iirczymi5561843.shtml\" target=\"_blank\">俄高官：国际恐怖分子试图潜入俄罗斯</a>, <a href=\"https://finance.sina.com.cn/money/future/fmnews/2020-04-10/doc-iirczymi5560376.shtml\" target=\"_blank\">泰国橡胶管理局将投入350亿泰铢 减缓疫情期间胶农压力</a>, <a href=\"https://mil.news.sina.com.cn/china/2020-04-10/doc-iircuyvh7029574.shtml\" target=\"_blank\">台媒：解放军多架军机在台湾西南方海域执行训练</a>, <a href=\"https://finance.sina.com.cn/chanjing/gsnews/2020-04-10/doc-iirczymi5564123.shtml\" target=\"_blank\">传中海地产上海公司总经理崔帅被公安局带走调查</a>, <a href=\"https://finance.sina.com.cn/stock/s/2020-04-10/doc-iircuyvh7029490.shtml\" target=\"_blank\">开元股份收关注函：说明是否涉及NLP研发领域</a>, <a href=\"https://finance.sina.com.cn/money/insurance/bxdt/2020-04-10/doc-iircuyvh7029657.shtml\" target=\"_blank\">从地震到台风、洪水 巨灾保险产品范围进一步扩展</a>, <a href=\"https://finance.sina.com.cn/chanjing/cyxw/2020-04-10/doc-iircuyvh7029977.shtml\" target=\"_blank\">企业拒招湖北籍劳动者？全国人大常委会法工委：不合法</a>, <a href=\"https://finance.sina.com.cn/chanjing/cyxw/2020-04-10/doc-iirczymi5560213.shtml\" target=\"_blank\">历经三年中国首部能源法即将颁布 未来能源发展更市场化</a>, <a href=\"https://finance.sina.com.cn/stock/hyyj/2020-04-10/doc-iircuyvh7030128.shtml\" target=\"_blank\">4月以来险资频繁调研医疗健康股 中小创受热捧(名单)</a>, <a href=\"https://finance.sina.com.cn/stock/s/2020-04-10/doc-iircuyvh7029211.shtml\" target=\"_blank\">佳讯飞鸿：所涉及的融合通信业务与RCS业务存在差异</a>, <a href=\"https://finance.sina.com.cn/chanjing/gsnews/2020-04-10/doc-iirczymi5559616.shtml\" target=\"_blank\">菜鸟保跨境物流稳外贸 部分义乌跨境商家逆势增长5倍</a>, <a href=\"https://finance.sina.com.cn/stock/s/2020-04-10/doc-iircuyvh7028782.shtml\" target=\"_blank\">宁德时代：持股7.53%的股东拟减持不超过1.5%</a>, <a href=\"https://finance.sina.com.cn/money/bond/market/2020-04-10/doc-iirczymi5559260.shtml\" target=\"_blank\">中国3月进口年率前瞻：料将持续回落</a>, <a href=\"https://news.sina.com.cn/c/2020-04-10/doc-iirczymi5559522.shtml\" target=\"_blank\">教育部将启动高校在线教学英文版国际平台建设项目</a>, <a href=\"https://news.sina.com.cn/c/2020-04-10/doc-iircuyvh7029527.shtml\" target=\"_blank\">4月18日起，广西高校有序开学！</a>, <a href=\"https://news.sina.com.cn/w/2020-04-10/doc-iirczymi5559517.shtml\" target=\"_blank\">伊朗新增新冠肺炎确诊病例1972例 累计确诊68192例</a>, <a href=\"https://news.sina.com.cn/c/2020-04-10/doc-iirczymi5559431.shtml\" target=\"_blank\">这些妨害疫情防控、“伤医”等不法行为被依法处理！</a>, <a href=\"https://finance.sina.com.cn/stock/observe/2020-04-10/doc-iirczymi5558991.shtml\" target=\"_blank\">九洲药业销售费用增加 净资产收益率低于同行</a>, <a href=\"https://finance.sina.com.cn/stock/s/2020-04-10/doc-iircuyvh7029932.shtml\" target=\"_blank\">景峰医药年报预亏逾6.5亿 涉口罩连日涨停收关注函</a>, <a href=\"https://finance.sina.com.cn/money/bank/bank_hydt/2020-04-10/doc-iircuyvh7028438.shtml\" target=\"_blank\">央行透露包商银行改革重组进展：拟设立蒙商银行承接</a>, <a href=\"https://news.sina.com.cn/w/2020-04-10/doc-iirczymi5559518.shtml\" target=\"_blank\">坦桑尼亚桑给巴尔岛新增2例新冠肺炎确诊病例</a>, <a href=\"javascript:void(0)\" onclick=\"newsList.page.goTo(2);return false;\">2</a>, <a href=\"javascript:void(0)\" onclick=\"newsList.page.goTo(3);return false;\">3</a>, <a href=\"javascript:void(0)\" onclick=\"newsList.page.goTo(4);return false;\">4</a>, <a href=\"javascript:void(0)\" onclick=\"newsList.page.goTo(5);return false;\">5</a>, <a href=\"javascript:void(0)\" onclick=\"newsList.page.goTo(6);return false;\">6</a>, <a href=\"javascript:void(0)\" onclick=\"newsList.page.goTo(7);return false;\">7</a>, <a href=\"javascript:void(0)\" onclick=\"newsList.page.goTo(8);return false;\">8</a>, <a href=\"javascript:void(0)\" onclick=\"newsList.page.goTo(9);return false;\">9</a>, <a href=\"javascript:void(0)\" onclick=\"newsList.page.goTo(10);return false;\">10</a>, <a href=\"javascript:void(0)\" onclick=\"newsList.page.goTo(11);return false;\">11</a>, <a href=\"javascript:void(0)\" onclick=\"newsList.page.goTo(25364);return false;\">25364</a>, <a href=\"javascript:void(0)\" onclick=\"newsList.page.next();return false;\">下一页</a>, <a href=\"http://news.sina.com.cn/guest.html\" target=\"_blank\">意见反馈留言板</a>, <a href=\"http://www.sina.com.cn/intro/copyright.shtml\">版权所有</a>, <a class=\"checked\" href=\"javascript:void(0)\" pageid=\"153\" s_id=\"2509\" s_type=\"col\">全部</a>, <a class=\"\" href=\"javascript:void(0)\" pageid=\"153\" s_id=\"2510\" s_type=\"col\">国内</a>, <a class=\"\" href=\"javascript:void(0)\" pageid=\"153\" s_id=\"2511\" s_type=\"col\">国际</a>, <a class=\"\" href=\"javascript:void(0)\" pageid=\"153\" s_id=\"2669\" s_type=\"col\">社会</a>, <a class=\"\" href=\"javascript:void(0)\" pageid=\"153\" s_id=\"2512\" s_type=\"col\">体育</a>, <a class=\"\" href=\"javascript:void(0)\" pageid=\"153\" s_id=\"2513\" s_type=\"col\">娱乐</a>, <a class=\"\" href=\"javascript:void(0)\" pageid=\"153\" s_id=\"2514\" s_type=\"col\">军事</a>, <a class=\"\" href=\"javascript:void(0)\" pageid=\"153\" s_id=\"2515\" s_type=\"col\">科技</a>, <a class=\"\" href=\"javascript:void(0)\" pageid=\"153\" s_id=\"2516\" s_type=\"col\">财经</a>, <a class=\"\" href=\"javascript:void(0)\" pageid=\"153\" s_id=\"2517\" s_type=\"col\">股市</a>, <a class=\"\" href=\"javascript:void(0)\" pageid=\"153\" s_id=\"2518\" s_type=\"col\">美股</a>, <a href=\"javascript:void(0)\" onclick=\"newsList.autoReload.setCdsSize(30);return false;\">30秒</a>, <a href=\"javascript:void(0)\" onclick=\"newsList.autoReload.setCdsSize(90);return false;\">90秒</a>, <a class=\"\" href=\"javascript:void(0)\" id=\"autoHideToolBar\" title=\"自动隐藏工具栏\">自动隐藏</a>, <a href=\"javascript:void(0)\" id=\"preMonth\" style=\"visibility: inherit;\">&lt;&lt;</a>, <a href=\"javascript:void(0)\" id=\"nextMonth\" style=\"visibility: hidden;\">&gt;&gt;</a>, <a href=\"javascript:void(0)\" onclick=\"newsList.review.click(2020,3,1);return false;\">1</a>, <a href=\"javascript:void(0)\" onclick=\"newsList.review.click(2020,3,2);return false;\">2</a>, <a href=\"javascript:void(0)\" onclick=\"newsList.review.click(2020,3,3);return false;\">3</a>, <a href=\"javascript:void(0)\" onclick=\"newsList.review.click(2020,3,4);return false;\">4</a>, <a href=\"javascript:void(0)\" onclick=\"newsList.review.click(2020,3,5);return false;\">5</a>, <a href=\"javascript:void(0)\" onclick=\"newsList.review.click(2020,3,6);return false;\">6</a>, <a href=\"javascript:void(0)\" onclick=\"newsList.review.click(2020,3,7);return false;\">7</a>, <a href=\"javascript:void(0)\" onclick=\"newsList.review.click(2020,3,8);return false;\">8</a>, <a href=\"javascript:void(0)\" onclick=\"newsList.review.click(2020,3,9);return false;\">9</a>]\n"
     ]
    }
   ],
   "source": [
    "\n",
    "\n",
    "async def __get_latest_news_urls():\n",
    "    s = requests_html.AsyncHTMLSession()\n",
    "    r = await s.get(SINA_URL)\n",
    "    await r.html.arender()\n",
    "    bs = bs4.BeautifulSoup(r.html.html, 'html.parser')\n",
    "    await s.close()\n",
    "    return bs.find_all('a')[6:]\n",
    "\n",
    "links = await(__get_latest_news_urls())\n",
    "print(links)\n"
   ]
  },
  {
   "cell_type": "markdown",
   "metadata": {},
   "source": [
    "思考一下数据的维度\n",
    "\n",
    "1. 标题\n",
    "1. 类别\n",
    "2. 时间\n",
    "4. 关键字\n",
    "5. 责任编辑\n",
    "6. 来源\n",
    "7. 相关专题\n",
    "8. 正文\n",
    "\n",
    "总之提取信息相当麻烦，因为格式不是固定的，上述元素也不一定在所有新闻中都出现\n",
    "\n",
    "这里随便选一个全部都有的新闻当例子"
   ]
  },
  {
   "cell_type": "code",
   "execution_count": 5,
   "metadata": {},
   "outputs": [],
   "source": [
    "sample_url = \"https://finance.sina.com.cn/roll/2020-04-03/doc-iimxxsth3469383.shtml\"\n",
    "r = requests.get(sample_url)\n",
    "bs = bs4.BeautifulSoup(r.text.encode(r.encoding).decode(\"utf8\",\"ignore\"))"
   ]
  },
  {
   "cell_type": "code",
   "execution_count": 6,
   "metadata": {},
   "outputs": [],
   "source": [
    "import re\n",
    "import datetime\n",
    "import requests\n",
    "from requests.adapters import HTTPAdapter\n",
    "\n",
    "class SinaNews:\n",
    "    def __init__(self, url: str, s: requests.Session):\n",
    "        self.url = url\n",
    "        r = s.get(url)\n",
    "#         print(r)\n",
    "        self.bs = bs4.BeautifulSoup(r.text.encode(r.encoding).decode(\"utf8\",\"ignore\"))\n",
    "    async def go(self):\n",
    "#         print(self.bs.prettify())\n",
    "        \n",
    "        self.main_title = self.bs.find('title').text\n",
    "        date_source = self.bs.find('div', 'date-source')\n",
    "        if date_source is None:\n",
    "            date_source = self.bs.find('div', 'artInfo')\n",
    "        date_text = date_source.find('span', 'date')\n",
    "        if date_text is None:\n",
    "            date_text = date_source.find('span', id='pub_date')\n",
    "#         print(date_source, date_text)\n",
    "#         self.html = self.bs.prettify()\n",
    "\n",
    "        if date_text is not None:\n",
    "            date_text = date_text.text.strip()\n",
    "#             print(date_text)\n",
    "            date_text = date_text.replace(' ', '')\n",
    "            \n",
    "            if '年' in date_text:\n",
    "                self.publish_date = datetime.datetime.strptime(date_text, '%Y年%m月%d日%H:%M')\n",
    "            else:\n",
    "                self.publish_date = datetime.datetime.strptime(date_text, '%Y-%m-%d%H:%M:%S')\n",
    "        if date_source is not None:\n",
    "            self.source = date_source.find_all()[1].text\n",
    "        content_list = self.bs.find_all('p')\n",
    "        self.content = \"\".join([ tag.text for tag in content_list if not 'class' in tag.attrs ])\n",
    "        key_words_list = self.bs.find('div', 'article-bottom clearfix')\n",
    "        if key_words_list is not None:\n",
    "            key_words_list = key_words_list.find_all('a')\n",
    "            self.key_words = \" \".join([ tag.text for tag in key_words_list if not 'class' in tag.attrs])\n",
    "        \n",
    "        editor_source = self.bs.find(string=re.compile('责任编辑'))\n",
    "        if editor_source is not None:\n",
    "            editor_source = editor_source.split('责任编辑：')\n",
    "            self.article_editor = editor_source[-1].strip()\n",
    "        \n",
    "        self.category = self.bs.find('div', 'channel-path')\n",
    "        if self.category is not None:\n",
    "            self.category = self.category.find('a')\n",
    "        if self.category is not None:\n",
    "            self.category = self.category.text\n",
    "        \n",
    "        relative_topics_tags = self.bs.find('div', attrs={\n",
    "            'data-sudaclick': 'content_relativetopics_p'\n",
    "        })\n",
    "        if relative_topics_tags is not None:\n",
    "            relative_topics_tags = relative_topics_tags.find_all('a')\n",
    "#             print(relative_topics_tags)\n",
    "            self.relative_topics = \" \".join(tag.text for tag in relative_topics_tags)\n",
    "        self.data = dict()\n",
    "        for k in self.__dict__:\n",
    "            if k != 'bs' and k != 'url' and k != 'data':\n",
    "                self.data[k] = self.__dict__[k]\n",
    "#                 if k != 'content':\n",
    "#                     print(k, self.__dict__[k])\n",
    "        \n",
    "#         pass\n",
    "with requests.Session() as session:\n",
    "    session.mount('http://', HTTPAdapter(max_retries=5))\n",
    "    session.mount('https://', HTTPAdapter(max_retries=5))\n",
    "    r = SinaNews(sample_url, session)\n",
    "    await r.go()"
   ]
  },
  {
   "cell_type": "markdown",
   "metadata": {},
   "source": [
    "写入 csv 文件\n"
   ]
  },
  {
   "cell_type": "code",
   "execution_count": 7,
   "metadata": {},
   "outputs": [
    {
     "name": "stdout",
     "output_type": "stream",
     "text": [
      "done\n"
     ]
    }
   ],
   "source": [
    "import csv\n",
    "import pandas as pd\n",
    "import numpy as np\n",
    "\n",
    "sample_csv_file = \"./sample.csv\"\n",
    "\n",
    "def dump(sampleNews: SinaNews, sinaNewsList: list):\n",
    "    d = dict()\n",
    "    attrs = sampleNews.data.keys()\n",
    "    for k in attrs:\n",
    "        d[k] = []\n",
    "    for n in sinaNewsList:\n",
    "        for k in attrs:\n",
    "            if k in n.data:\n",
    "                d[k].append(n.data[k])\n",
    "            else:\n",
    "                d[k].append(None)\n",
    "    return pd.DataFrame(d, columns=attrs)\n",
    "\n",
    "\n",
    "df = dump(r, [r])\n",
    "print('done')\n",
    "df.to_csv('sample.csv')\n"
   ]
  },
  {
   "cell_type": "markdown",
   "metadata": {},
   "source": [
    "尝试读取内容"
   ]
  },
  {
   "cell_type": "code",
   "execution_count": 8,
   "metadata": {},
   "outputs": [
    {
     "data": {
      "text/html": [
       "<div>\n",
       "<style scoped>\n",
       "    .dataframe tbody tr th:only-of-type {\n",
       "        vertical-align: middle;\n",
       "    }\n",
       "\n",
       "    .dataframe tbody tr th {\n",
       "        vertical-align: top;\n",
       "    }\n",
       "\n",
       "    .dataframe thead th {\n",
       "        text-align: right;\n",
       "    }\n",
       "</style>\n",
       "<table border=\"1\" class=\"dataframe\">\n",
       "  <thead>\n",
       "    <tr style=\"text-align: right;\">\n",
       "      <th></th>\n",
       "      <th>main_title</th>\n",
       "      <th>publish_date</th>\n",
       "      <th>source</th>\n",
       "      <th>content</th>\n",
       "      <th>key_words</th>\n",
       "      <th>article_editor</th>\n",
       "      <th>category</th>\n",
       "      <th>relative_topics</th>\n",
       "    </tr>\n",
       "  </thead>\n",
       "  <tbody>\n",
       "    <tr>\n",
       "      <th>0</th>\n",
       "      <td>做空机构曾围绕瑞幸掐架：力挺瑞幸的香椽终于承认浑水是对的|做空机构_新浪财经_新浪网</td>\n",
       "      <td>2020-04-03 13:48:00</td>\n",
       "      <td>澎湃新闻</td>\n",
       "      <td>安装新浪财经客户端第一时间接收最全面的市场资讯→【下载地址】　　瑞幸咖啡（Nasdaq：LK...</td>\n",
       "      <td>做空机构 瑞幸咖啡</td>\n",
       "      <td>孟然</td>\n",
       "      <td>美股</td>\n",
       "      <td>瑞幸咖啡伪造交易股价暴跌专题</td>\n",
       "    </tr>\n",
       "  </tbody>\n",
       "</table>\n",
       "</div>"
      ],
      "text/plain": [
       "                                   main_title         publish_date source  \\\n",
       "0  做空机构曾围绕瑞幸掐架：力挺瑞幸的香椽终于承认浑水是对的|做空机构_新浪财经_新浪网  2020-04-03 13:48:00   澎湃新闻   \n",
       "\n",
       "                                             content  key_words  \\\n",
       "0  安装新浪财经客户端第一时间接收最全面的市场资讯→【下载地址】　　瑞幸咖啡（Nasdaq：LK...  做空机构 瑞幸咖啡   \n",
       "\n",
       "  article_editor category relative_topics  \n",
       "0             孟然       美股  瑞幸咖啡伪造交易股价暴跌专题  "
      ]
     },
     "execution_count": 8,
     "metadata": {},
     "output_type": "execute_result"
    }
   ],
   "source": [
    "df2 = pd.read_csv(sample_csv_file, index_col=0)\n",
    "df2"
   ]
  },
  {
   "cell_type": "markdown",
   "metadata": {},
   "source": [
    "写一个测试函数，爬取最新的几条新闻"
   ]
  },
  {
   "cell_type": "code",
   "execution_count": 9,
   "metadata": {},
   "outputs": [
    {
     "name": "stdout",
     "output_type": "stream",
     "text": [
      "{'main_title': '北京玉渊潭公园门票倒卖情况突出 将实名购票|玉渊潭公园|景山公园|北京_新浪新闻', 'publish_date': datetime.datetime(2020, 4, 9, 16, 39), 'source': '新京报', 'content': '\\u3000\\u3000原标题：玉渊潭公园门票倒卖情况突出，将实名购票\\u3000\\u3000景山公园也将实名购票。\\u3000\\u3000新京报快讯 4月9日，北京召开新冠疫情防控第76场发布会。\\u3000\\u3000北京市公园管理中心副主任、新闻发言人张亚红表示，市属11家公园在清明假期接待游客数量比去年同期减少70%，游客在游园时也配合戴口罩、测温。这是因为市属公园提前采取网上预约措施。\\u3000\\u3000倒卖玉渊潭公园门票情况比较突出，已向公安机关报警。相关人员禁止进入所有市属公园。\\u3000\\u30004月11日，玉渊潭将实行实名购票。景山公园也将实名购票。\\u3000\\u3000新京报记者 李玉坤更多猛料！欢迎扫描左方二维码关注新浪新闻官方微信（xinlang-xinwen）违法和不良信息举报电话：4000520066\\n                    举报邮箱：jubao@vip.sina.comCopyright © 1996-2020 SINA CorporationAll Rights Reserved  新浪公司 版权所有 ', 'key_words': '玉渊潭公园 景山公园 北京', 'article_editor': '郑亚鹏', 'category': ' 社会万象', 'relative_topics': '聚焦新型冠状病毒肺炎疫情'}\n"
     ]
    }
   ],
   "source": [
    "url = \"https://news.sina.com.cn/c/2020-04-09/doc-iircuyvh6810407.shtml\"\n",
    "with requests.Session() as s:\n",
    "    n = SinaNews(url, s)\n",
    "    await n.go()\n",
    "    print(n.data)"
   ]
  },
  {
   "cell_type": "code",
   "execution_count": 10,
   "metadata": {},
   "outputs": [],
   "source": [
    "def getNewsFromDate(d: datetime.date):\n",
    "    def date_to_datetime(d):\n",
    "        return datetime.datetime(d.year, d.month, d.day)\n",
    "\n",
    "    def timestamp(d):\n",
    "        return (date_to_datetime(d) - datetime.datetime(1970, 1, 1)) / datetime.timedelta(seconds=1)\n",
    "    \n",
    "    dt = date_to_datetime(d)\n",
    "    \n",
    "    \n",
    "    stime = d + datetime.timedelta(hours=4)\n",
    "    etime = d - datetime.timedelta(days=1)\n",
    "    ctime = dt\n",
    "    \n",
    "    url = '''https://news.sina.com.cn/roll/#pageid=153&lid=2509&etime={}&stime={}&\n",
    "    ctime={}&date={}&k=&num=50'''.format(timestamp(etime), timestamp(stime), timestamp(ctime), d.strftime('%Y-%m-%d'))\n",
    "    return url\n"
   ]
  },
  {
   "cell_type": "markdown",
   "metadata": {},
   "source": [
    "测试一下最近三天，每天10篇新闻"
   ]
  },
  {
   "cell_type": "code",
   "execution_count": 11,
   "metadata": {},
   "outputs": [],
   "source": [
    "from itertools import chain\n",
    "import traceback\n",
    "\n",
    "async def getNewsFromDaysDuration(daysl: int, daysr: int, limit_num_per_day=0, output_num=5):\n",
    "    async def getNewsFromRollPage(url, limit_num=0, output_num=5):\n",
    "        \n",
    "        def get_page_url(pid):\n",
    "            pid = int(pid)\n",
    "            return url + \"&page={}\".format(pid)\n",
    "        \n",
    "        pid = 0\n",
    "        async def next_page(pid):\n",
    "            pid += 1\n",
    "            print(pid, get_page_url(pid))\n",
    "            try:\n",
    "                s = requests_html.AsyncHTMLSession()\n",
    "                r = await s.get(get_page_url(pid))\n",
    "                await asyncio.sleep(0.1)\n",
    "                await r.html.arender()\n",
    "                bs = bs4.BeautifulSoup(r.html.html, 'html.parser')\n",
    "                links = bs.find_all('a')[9:]\n",
    "            except:\n",
    "                traceback.print_exc()\n",
    "                print(\"something went wrong when calling page {}\".format(pid))\n",
    "                pid += 1\n",
    "                return next_page(pid+1)\n",
    "            finally:\n",
    "                await s.close()\n",
    "            return pid, links\n",
    "\n",
    "\n",
    "        cnt = 0\n",
    "        today = datetime.date.today()\n",
    "        tasks = []\n",
    "        res = []\n",
    "        with requests.Session() as s:\n",
    "            s.mount('http://', HTTPAdapter(max_retries=5))\n",
    "            s.mount('https://', HTTPAdapter(max_retries=5))\n",
    "            while True:\n",
    "                pid, links = await next_page(pid)\n",
    "                for link in links:\n",
    "                    if cnt % output_num == 0:\n",
    "                        print(f\"#{cnt}\", link.text, link['href'])\n",
    "\n",
    "                    try:\n",
    "                        n = SinaNews(link['href'], s)\n",
    "                        res.append(n)\n",
    "                        tasks.append(asyncio.create_task(n.go()))\n",
    "                    except Exception as err:\n",
    "                        traceback.print_exc()\n",
    "                        print(\"something wrong with news url: {}\".format(link))\n",
    "                    finally:\n",
    "                        cnt += 1\n",
    "\n",
    "                    if cnt == limit_num:\n",
    "                        break\n",
    "                    if cnt % 50 == 0:\n",
    "                        break\n",
    "                    urls = re.findall('http[s]?', link.text)\n",
    "                    print(urls)\n",
    "                    exit()\n",
    "                    if len(urls) == 0:\n",
    "                        break\n",
    "                if cnt == limit_num:\n",
    "                    break\n",
    "        \n",
    "        for task in tasks:\n",
    "            await task\n",
    "        \n",
    "        return res\n",
    "    \n",
    "    \n",
    "    today = datetime.date.today()\n",
    "    res = []\n",
    "    for i in range(daysl, daysr+1):\n",
    "        print(\"day {} from today\".format(i))\n",
    "        d = today - datetime.timedelta(days=i)\n",
    "        url = getNewsFromDate(d)\n",
    "        try:\n",
    "            res += await getNewsFromRollPage(url, limit_num_per_day, output_num)\n",
    "        except Exception as e:\n",
    "            traceback.print_exc()\n",
    "            print(\"something wrong when finding news from day {}\".format(i))\n",
    "    \n",
    "    return res"
   ]
  },
  {
   "cell_type": "markdown",
   "metadata": {},
   "source": []
  },
  {
   "cell_type": "code",
   "execution_count": null,
   "metadata": {},
   "outputs": [
    {
     "name": "stdout",
     "output_type": "stream",
     "text": [
      "day 1 from today\n",
      "1 https://news.sina.com.cn/roll/#pageid=153&lid=2509&etime=1586304000.0&stime=1586390400.0&\n",
      "    ctime=1586390400.0&date=2020-04-09&k=&num=50&page=1\n",
      "#0 美移民律师：很多中国客户因疫情失业 也回不了中国 https://news.sina.com.cn/w/2020-04-10/doc-iirczymi5399549.shtml\n",
      "[]\n",
      "2 https://news.sina.com.cn/roll/#pageid=153&lid=2509&etime=1586304000.0&stime=1586390400.0&\n",
      "    ctime=1586390400.0&date=2020-04-09&k=&num=50&page=2\n"
     ]
    }
   ],
   "source": [
    "news = await getNewsFromDaysDuration(1, 3, 10)"
   ]
  },
  {
   "cell_type": "code",
   "execution_count": null,
   "metadata": {},
   "outputs": [],
   "source": [
    "print(news)"
   ]
  },
  {
   "cell_type": "code",
   "execution_count": null,
   "metadata": {},
   "outputs": [],
   "source": [
    "df = dump(r, news)\n",
    "df.to_csv('sample2.csv')\n",
    "df.head()\n"
   ]
  },
  {
   "cell_type": "markdown",
   "metadata": {},
   "source": [
    "查看缺失情况"
   ]
  },
  {
   "cell_type": "code",
   "execution_count": null,
   "metadata": {
    "scrolled": true
   },
   "outputs": [],
   "source": [
    "for attr in df:\n",
    "    print(attr, df[attr].isnull().sum())"
   ]
  },
  {
   "cell_type": "markdown",
   "metadata": {},
   "source": [
    "测试收集一天的所有新闻，新浪新闻每天只有50页保存，每页50个新闻，因此一天只有2500新闻最多可以保存"
   ]
  },
  {
   "cell_type": "code",
   "execution_count": null,
   "metadata": {
    "scrolled": false
   },
   "outputs": [
    {
     "name": "stdout",
     "output_type": "stream",
     "text": [
      "day 3 from today\n",
      "1 https://news.sina.com.cn/roll/#pageid=153&lid=2509&etime=1586131200.0&stime=1586217600.0&\n",
      "    ctime=1586217600.0&date=2020-04-07&k=&num=50&page=1\n",
      "#0 任泽平分析全球疫情：欧美陆续现拐点 但有长尾特征 https://finance.sina.com.cn/review/mspl/2020-04-08/doc-iimxxsth4181599.shtml\n",
      "2 https://news.sina.com.cn/roll/#pageid=153&lid=2509&etime=1586131200.0&stime=1586217600.0&\n",
      "    ctime=1586217600.0&date=2020-04-07&k=&num=50&page=2\n",
      "3 https://news.sina.com.cn/roll/#pageid=153&lid=2509&etime=1586131200.0&stime=1586217600.0&\n",
      "    ctime=1586217600.0&date=2020-04-07&k=&num=50&page=3\n",
      "4 https://news.sina.com.cn/roll/#pageid=153&lid=2509&etime=1586131200.0&stime=1586217600.0&\n",
      "    ctime=1586217600.0&date=2020-04-07&k=&num=50&page=4\n",
      "5 https://news.sina.com.cn/roll/#pageid=153&lid=2509&etime=1586131200.0&stime=1586217600.0&\n",
      "    ctime=1586217600.0&date=2020-04-07&k=&num=50&page=5\n",
      "6 https://news.sina.com.cn/roll/#pageid=153&lid=2509&etime=1586131200.0&stime=1586217600.0&\n",
      "    ctime=1586217600.0&date=2020-04-07&k=&num=50&page=6\n",
      "7 https://news.sina.com.cn/roll/#pageid=153&lid=2509&etime=1586131200.0&stime=1586217600.0&\n",
      "    ctime=1586217600.0&date=2020-04-07&k=&num=50&page=7\n",
      "8 https://news.sina.com.cn/roll/#pageid=153&lid=2509&etime=1586131200.0&stime=1586217600.0&\n",
      "    ctime=1586217600.0&date=2020-04-07&k=&num=50&page=8\n",
      "9 https://news.sina.com.cn/roll/#pageid=153&lid=2509&etime=1586131200.0&stime=1586217600.0&\n",
      "    ctime=1586217600.0&date=2020-04-07&k=&num=50&page=9\n"
     ]
    }
   ],
   "source": [
    "for i in range(3, 6):\n",
    "    news = await getNewsFromDaysDuration(i, i, 1500, 20)\n",
    "    df = dump(r, news)\n",
    "    df.to_csv(f'{i}.csv')"
   ]
  }
 ],
 "metadata": {
  "kernelspec": {
   "display_name": "Python 3.8.0 64-bit",
   "language": "python",
   "name": "python38064bita164133e3aa9438ead1ae1395985b6e6"
  },
  "language_info": {
   "codemirror_mode": {
    "name": "ipython",
    "version": 3
   },
   "file_extension": ".py",
   "mimetype": "text/x-python",
   "name": "python",
   "nbconvert_exporter": "python",
   "pygments_lexer": "ipython3",
   "version": "3.8.0"
  }
 },
 "nbformat": 4,
 "nbformat_minor": 4
}
