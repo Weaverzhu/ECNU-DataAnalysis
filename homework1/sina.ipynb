{
 "cells": [
  {
   "cell_type": "markdown",
   "metadata": {},
   "source": [
    "## 爬取新浪网的新闻\n",
    "\n",
    "+ 使用 selenium 请求内容\n",
    "+ 使用 bs4 解析 html\n",
    "\n",
    "### 大致思路\n",
    "\n",
    "1. 爬取滚动\n",
    "1. 判断时间是否在两周内，如果是则爬取"
   ]
  },
  {
   "cell_type": "markdown",
   "metadata": {},
   "source": [
    "准备"
   ]
  },
  {
   "cell_type": "code",
   "execution_count": 1,
   "metadata": {},
   "outputs": [],
   "source": [
    "import bs4\n",
    "import requests_html\n",
    "import asyncio\n",
    "import requests\n",
    "\n",
    "\n",
    "\n",
    "SINA_URL = 'https://news.sina.com.cn/roll/'\n",
    "\n",
    "# browser.close()"
   ]
  },
  {
   "cell_type": "markdown",
   "metadata": {},
   "source": [
    "找出链接, 顺便写一个获取最新新闻链接的函数，从第六个链接开始忽略前面的非新闻链接"
   ]
  },
  {
   "cell_type": "code",
   "execution_count": 2,
   "metadata": {},
   "outputs": [
    {
     "name": "stdout",
     "output_type": "stream",
     "text": [
      "[<a href=\"https://finance.sina.com.cn/hy/hyjz/2020-04-10/doc-iirczymi5512253.shtml\" target=\"_blank\">4月10日15:00天达共和公益讲堂：离婚与继承案例分析</a>, <a href=\"https://news.sina.com.cn/w/2020-04-10/doc-iircuyvh6981593.shtml\" target=\"_blank\">美国如何逐步解锁抗疫的“正确姿态”</a>, <a href=\"https://finance.sina.com.cn/roll/2020-04-10/doc-iirczymi5511874.shtml\" target=\"_blank\">商务部：缩小加工贸易禁止类商品种类 支持企业开展加工贸易</a>, <a href=\"https://finance.sina.com.cn/stock/marketresearch/2020-04-10/doc-iirczymi5510639.shtml\" target=\"_blank\">华创证券:都市圈战略明确 兼顾稳经济和稳房地产重任</a>, <a href=\"https://finance.sina.com.cn/china/gncj/2020-04-10/doc-iircuyvh6979969.shtml\" target=\"_blank\">商务部：暂免今年4月至年底的加工贸易内销缓税利息</a>, <a href=\"https://finance.sina.com.cn/china/gncj/2020-04-10/doc-iirczymi5511299.shtml\" target=\"_blank\">商务部：网上广交会将为每一家参展企业提供独立直播间</a>, <a href=\"https://finance.sina.com.cn/stock/jsy/2020-04-10/doc-iircuyvh6979538.shtml\" target=\"_blank\">RCS概念大幅分化 号百控股等多股跌停</a>, <a href=\"https://finance.sina.com.cn/money/future/fmnews/2020-04-10/doc-iirczymi5509976.shtml\" target=\"_blank\">独家解读：乱哄哄的OPEC+会议背后 墨西哥在帮美国挡枪？</a>, <a href=\"https://news.sina.com.cn/c/2020-04-10/doc-iircuyvh6980054.shtml\" target=\"_blank\">考生注意！黑龙江省2020年高考报名补报工作即将开始</a>, <a href=\"https://finance.sina.com.cn/chanjing/gsnews/2020-04-10/doc-iirczymi5510515.shtml\" target=\"_blank\">物美即日起发放亿元补贴券 线上线下通用</a>, <a href=\"https://finance.sina.com.cn/money/bond/market/2020-04-10/doc-iircuyvh6979185.shtml\" target=\"_blank\">历史性时刻！国债期货市场迎来VIP</a>, <a href=\"https://finance.sina.com.cn/chanjing/gsnews/2020-04-10/doc-iirczymi5510062.shtml\" target=\"_blank\">携程欲收购神州租车？携程与神州租车均“不予置评”</a>, <a href=\"https://finance.sina.com.cn/roll/2020-04-10/doc-iircuyvh6979482.shtml\" target=\"_blank\">支付宝理财方式调查 11万人中8成靠自己折腾</a>, <a href=\"https://finance.sina.com.cn/china/gncj/2020-04-10/doc-iirczymi5509725.shtml\" target=\"_blank\">上海：将实施无人工厂专项技术改造行动</a>, <a class=\"videoNewsLeft\" href=\"https://finance.sina.com.cn/china/dfjj/2020-04-10/doc-iirczymi5509397.shtml\" target=\"_blank\">北京地区如何办理个税年度汇算？看这里</a>, <a href=\"https://tech.sina.com.cn/it/2020-04-10/doc-iircuyvh6978439.shtml\" target=\"_blank\">Gartner:受疫情影响 2020年全球半导体收入将降0.9%</a>, <a href=\"https://finance.sina.com.cn/china/gncj/2020-04-10/doc-iircuyvh6978012.shtml\" target=\"_blank\">商务部：推动传统企业触网上线 完善跨境电商产业链和生态圈</a>, <a href=\"https://finance.sina.com.cn/chanjing/gsnews/2020-04-10/doc-iircuyvh6977962.shtml\" target=\"_blank\">趣店营收利润创上市最低 “百亿补贴”重仓万里目可否“回血”？</a>, <a href=\"https://finance.sina.com.cn/stock/usstock/clues/2020-04-10/doc-iirczymi5444928.shtml\" target=\"_blank\">沪指失守2800 美股创出1974年以来最大周涨幅</a>, <a href=\"https://finance.sina.com.cn/money/bond/market/2020-04-10/doc-iirczymi5509613.shtml\" target=\"_blank\">上海将抓紧启动100亿元专项债券发行</a>, <a href=\"https://finance.sina.com.cn/stock/hyyj/2020-04-10/doc-iirczymi5508125.shtml\" target=\"_blank\">东吴证券：三月乘用车如期恢复 二季度建议进行超配</a>, <a href=\"https://finance.sina.com.cn/china/dfjj/2020-04-10/doc-iircuyvh6980190.shtml\" target=\"_blank\">上海：加快经营性用地出让节奏 减轻房企入市成本压力</a>, <a href=\"https://news.sina.com.cn/c/2020-04-10/doc-iircuyvh6978074.shtml\" target=\"_blank\">全力追赶工期，上海今年将完成投资1500亿元</a>, <a href=\"https://finance.sina.com.cn/chanjing/gsnews/2020-04-10/doc-iirczymi5507822.shtml\" target=\"_blank\">海尔智家营收增速放缓 专家:是“产品智能”还是“包装智能”？</a>, <a href=\"https://finance.sina.com.cn/chanjing/gsnews/2020-04-10/doc-iirczymi5508635.shtml\" target=\"_blank\">京东升级“安居计划”至10亿 已为员工贷款8亿</a>, <a href=\"https://tech.sina.com.cn/i/2020-04-10/doc-iircuyvh6978125.shtml\" target=\"_blank\">神州系切割背后：陆正耀“出行局”被瑞幸事件搅局</a>, <a href=\"https://finance.sina.com.cn/roll/2020-04-10/doc-iirczymi5508636.shtml\" target=\"_blank\">神州系切割背后：陆正耀“出行局”被瑞幸造假事件搅局</a>, <a href=\"https://finance.sina.com.cn/china/gncj/2020-04-10/doc-iircuyvh6978122.shtml\" target=\"_blank\">共享单车看武汉“解封”：商圈、商务办公区骑行热度升高</a>, <a href=\"https://news.sina.com.cn/c/2020-04-10/doc-iircuyvh6977510.shtml\" target=\"_blank\">美联储再放水2.3万亿美元！能否起到作用？</a>, <a href=\"https://finance.sina.com.cn/money/fund/original/2020-04-10/doc-iirczymi5507629.shtml\" target=\"_blank\">长城基金马强：追求绝对收益 在波动中捕捉正收益</a>, <a href=\"https://finance.sina.com.cn/china/gncj/2020-04-10/doc-iirczymi5508713.shtml\" target=\"_blank\">商务部：全国跨境电商综试区增至105个</a>, <a href=\"https://finance.sina.com.cn/stock/s/2020-04-10/doc-iircuyvh6976944.shtml\" target=\"_blank\">传董顺钢离任程军接任总经理 酒鬼换帅背后细节披露</a>, <a href=\"https://finance.sina.com.cn/chanjing/gsnews/2020-04-10/doc-iirczymi5506982.shtml\" target=\"_blank\">高盛强平抛售瑞幸7600万股票 27家机构已提前出逃</a>, <a href=\"https://finance.sina.com.cn/roll/2020-04-10/doc-iircuyvh6977384.shtml\" target=\"_blank\">商务部：扩大内销选择性征税试点</a>, <a href=\"https://finance.sina.com.cn/world/gjcj/2020-04-10/doc-iirczymi5507597.shtml\" target=\"_blank\">比利时从中国采购的300万口罩不达标?使馆回应</a>, <a href=\"https://finance.sina.com.cn/china/gncj/2020-04-10/doc-iirczymi5506877.shtml\" target=\"_blank\">德媒：疫情之下中国企业努力重启</a>, <a href=\"https://finance.sina.com.cn/china/gncj/2020-04-10/doc-iirczymi5507155.shtml\" target=\"_blank\">商务部：外贸企业普遍面临订单取消和获取新订单难等问题</a>, <a href=\"https://finance.sina.com.cn/stock/marketresearch/2020-04-10/doc-iirczymi5506659.shtml\" target=\"_blank\">天风策略：创业板Q1负增长无悬念 后续又该如何配置</a>, <a href=\"https://news.sina.com.cn/o/2020-04-10/doc-iircuyvh6977636.shtml\" target=\"_blank\">受新冠肺炎疫情影响 俄莫斯科暂停市民祭扫活动</a>, <a href=\"https://finance.sina.com.cn/china/gncj/2020-04-10/doc-iirczymi5507214.shtml\" target=\"_blank\">上海：充分发挥“特斯拉”综合效应 深化投资项目审批改革</a>, <a href=\"https://news.sina.com.cn/o/2020-04-10/doc-iirczymi5508127.shtml\" target=\"_blank\">太原各小学幼儿园本学期不做开学准备？官方：假的</a>, <a href=\"https://finance.sina.com.cn/world/gjcj/2020-04-10/doc-iirczymi5507185.shtml\" target=\"_blank\">疫情下的美国：3周内1680万人失业 不平等加剧</a>, <a href=\"https://finance.sina.com.cn/china/gncj/2020-04-10/doc-iircuyvh6975613.shtml\" target=\"_blank\">商务部：全国将有105个综试区 形成陆海内外联动格局</a>, <a href=\"https://finance.sina.com.cn/china/gncj/2020-04-10/doc-iirczymi5506051.shtml\" target=\"_blank\">上海发布扩大有效投资稳定经济发展“20条”</a>, <a href=\"https://finance.sina.com.cn/china/gncj/2020-04-10/doc-iirczymi5507184.shtml\" target=\"_blank\">上海：加快启动市、区联手土地储备项目</a>, <a href=\"https://finance.sina.com.cn/china/gncj/2020-04-10/doc-iirczymi5507173.shtml\" target=\"_blank\">上海：允许符合条件房企延缴土地增值税</a>, <a href=\"https://news.sina.com.cn/s/2020-04-10/doc-iirczymi5511286.shtml\" target=\"_blank\">你是谁？为了谁？充当“黑伞”获刑九年！</a>, <a href=\"https://finance.sina.com.cn/china/gncj/2020-04-10/doc-iirczymi5506172.shtml\" target=\"_blank\">上海：中长期低息贷款政策扩至AI等领域</a>, <a href=\"https://finance.sina.com.cn/chanjing/cyxw/2020-04-10/doc-iirczymi5509297.shtml\" target=\"_blank\">一季度房企长租公寓整体拓展基本处于停滞 哪家规模逆势增长？</a>, <a href=\"https://finance.sina.com.cn/china/gncj/2020-04-10/doc-iircuyvh6975228.shtml\" target=\"_blank\">我国跨境电商综试区增至105个 覆盖30省区市</a>, <a href=\"javascript:void(0)\" onclick=\"newsList.page.goTo(2);return false;\">2</a>, <a href=\"javascript:void(0)\" onclick=\"newsList.page.goTo(3);return false;\">3</a>, <a href=\"javascript:void(0)\" onclick=\"newsList.page.goTo(4);return false;\">4</a>, <a href=\"javascript:void(0)\" onclick=\"newsList.page.goTo(5);return false;\">5</a>, <a href=\"javascript:void(0)\" onclick=\"newsList.page.goTo(6);return false;\">6</a>, <a href=\"javascript:void(0)\" onclick=\"newsList.page.goTo(7);return false;\">7</a>, <a href=\"javascript:void(0)\" onclick=\"newsList.page.goTo(8);return false;\">8</a>, <a href=\"javascript:void(0)\" onclick=\"newsList.page.goTo(9);return false;\">9</a>, <a href=\"javascript:void(0)\" onclick=\"newsList.page.goTo(10);return false;\">10</a>, <a href=\"javascript:void(0)\" onclick=\"newsList.page.goTo(11);return false;\">11</a>, <a href=\"javascript:void(0)\" onclick=\"newsList.page.goTo(25354);return false;\">25354</a>, <a href=\"javascript:void(0)\" onclick=\"newsList.page.next();return false;\">下一页</a>, <a href=\"http://news.sina.com.cn/guest.html\" target=\"_blank\">意见反馈留言板</a>, <a href=\"http://www.sina.com.cn/intro/copyright.shtml\">版权所有</a>, <a class=\"checked\" href=\"javascript:void(0)\" pageid=\"153\" s_id=\"2509\" s_type=\"col\">全部</a>, <a class=\"\" href=\"javascript:void(0)\" pageid=\"153\" s_id=\"2510\" s_type=\"col\">国内</a>, <a class=\"\" href=\"javascript:void(0)\" pageid=\"153\" s_id=\"2511\" s_type=\"col\">国际</a>, <a class=\"\" href=\"javascript:void(0)\" pageid=\"153\" s_id=\"2669\" s_type=\"col\">社会</a>, <a class=\"\" href=\"javascript:void(0)\" pageid=\"153\" s_id=\"2512\" s_type=\"col\">体育</a>, <a class=\"\" href=\"javascript:void(0)\" pageid=\"153\" s_id=\"2513\" s_type=\"col\">娱乐</a>, <a class=\"\" href=\"javascript:void(0)\" pageid=\"153\" s_id=\"2514\" s_type=\"col\">军事</a>, <a class=\"\" href=\"javascript:void(0)\" pageid=\"153\" s_id=\"2515\" s_type=\"col\">科技</a>, <a class=\"\" href=\"javascript:void(0)\" pageid=\"153\" s_id=\"2516\" s_type=\"col\">财经</a>, <a class=\"\" href=\"javascript:void(0)\" pageid=\"153\" s_id=\"2517\" s_type=\"col\">股市</a>, <a class=\"\" href=\"javascript:void(0)\" pageid=\"153\" s_id=\"2518\" s_type=\"col\">美股</a>, <a href=\"javascript:void(0)\" onclick=\"newsList.autoReload.setCdsSize(30);return false;\">30秒</a>, <a href=\"javascript:void(0)\" onclick=\"newsList.autoReload.setCdsSize(90);return false;\">90秒</a>, <a class=\"\" href=\"javascript:void(0)\" id=\"autoHideToolBar\" title=\"自动隐藏工具栏\">自动隐藏</a>, <a href=\"javascript:void(0)\" id=\"preMonth\" style=\"visibility: inherit;\">&lt;&lt;</a>, <a href=\"javascript:void(0)\" id=\"nextMonth\" style=\"visibility: hidden;\">&gt;&gt;</a>, <a href=\"javascript:void(0)\" onclick=\"newsList.review.click(2020,3,1);return false;\">1</a>, <a href=\"javascript:void(0)\" onclick=\"newsList.review.click(2020,3,2);return false;\">2</a>, <a href=\"javascript:void(0)\" onclick=\"newsList.review.click(2020,3,3);return false;\">3</a>, <a href=\"javascript:void(0)\" onclick=\"newsList.review.click(2020,3,4);return false;\">4</a>, <a href=\"javascript:void(0)\" onclick=\"newsList.review.click(2020,3,5);return false;\">5</a>, <a href=\"javascript:void(0)\" onclick=\"newsList.review.click(2020,3,6);return false;\">6</a>, <a href=\"javascript:void(0)\" onclick=\"newsList.review.click(2020,3,7);return false;\">7</a>, <a href=\"javascript:void(0)\" onclick=\"newsList.review.click(2020,3,8);return false;\">8</a>, <a href=\"javascript:void(0)\" onclick=\"newsList.review.click(2020,3,9);return false;\">9</a>]\n"
     ]
    }
   ],
   "source": [
    "\n",
    "\n",
    "async def __get_latest_news_urls():\n",
    "    s = requests_html.AsyncHTMLSession()\n",
    "    r = await s.get(SINA_URL)\n",
    "    await r.html.arender()\n",
    "    bs = bs4.BeautifulSoup(r.html.html, 'html.parser')\n",
    "    await s.close()\n",
    "    return bs.find_all('a')[6:]\n",
    "\n",
    "links = await(__get_latest_news_urls())\n",
    "print(links)\n"
   ]
  },
  {
   "cell_type": "markdown",
   "metadata": {},
   "source": [
    "思考一下数据的维度\n",
    "\n",
    "1. 标题\n",
    "1. 类别\n",
    "2. 时间\n",
    "4. 关键字\n",
    "5. 责任编辑\n",
    "6. 来源\n",
    "7. 相关专题\n",
    "8. 正文\n",
    "\n",
    "总之提取信息相当麻烦，因为格式不是固定的，上述元素也不一定在所有新闻中都出现\n",
    "\n",
    "这里随便选一个全部都有的新闻当例子"
   ]
  },
  {
   "cell_type": "code",
   "execution_count": 3,
   "metadata": {},
   "outputs": [],
   "source": [
    "sample_url = \"https://finance.sina.com.cn/roll/2020-04-03/doc-iimxxsth3469383.shtml\"\n",
    "r = requests.get(sample_url)\n",
    "bs = bs4.BeautifulSoup(r.text.encode(r.encoding).decode(\"utf8\",\"ignore\"))"
   ]
  },
  {
   "cell_type": "code",
   "execution_count": 19,
   "metadata": {},
   "outputs": [],
   "source": [
    "import re\n",
    "import datetime\n",
    "import requests\n",
    "from requests.adapters import HTTPAdapter\n",
    "\n",
    "class SinaNews:\n",
    "    def __init__(self, url: str, s: requests.Session):\n",
    "        self.url = url\n",
    "        r = s.get(url)\n",
    "#         print(r)\n",
    "        self.bs = bs4.BeautifulSoup(r.text.encode(r.encoding).decode(\"utf8\",\"ignore\"))\n",
    "    async def go(self):\n",
    "#         print(self.bs.prettify())\n",
    "        \n",
    "        self.main_title = self.bs.find('title').text\n",
    "        date_source = self.bs.find('div', 'date-source')\n",
    "        if date_source is None:\n",
    "            date_source = self.bs.find('div', 'artInfo')\n",
    "        date_text = date_source.find('span', 'date')\n",
    "        if date_text is None:\n",
    "            date_text = date_source.find('span', id='pub_date')\n",
    "#         print(date_source, date_text)\n",
    "#         self.html = self.bs.prettify()\n",
    "\n",
    "        if date_text is not None:\n",
    "            date_text = date_text.text.strip()\n",
    "#             print(date_text)\n",
    "            date_text = date_text.replace(' ', '')\n",
    "            \n",
    "            if '年' in date_text:\n",
    "                self.publish_date = datetime.datetime.strptime(date_text, '%Y年%m月%d日%H:%M')\n",
    "            else:\n",
    "                self.publish_date = datetime.datetime.strptime(date_text, '%Y-%m-%d%H:%M:%S')\n",
    "        self.source = date_source.find_all()[1].text\n",
    "        content_list = self.bs.find_all('p')\n",
    "        self.content = \"\".join([ tag.text for tag in content_list if not 'class' in tag.attrs ])\n",
    "        key_words_list = self.bs.find('div', 'article-bottom clearfix')\n",
    "        if key_words_list is not None:\n",
    "            key_words_list = key_words_list.find_all('a')\n",
    "            self.key_words = \" \".join([ tag.text for tag in key_words_list if not 'class' in tag.attrs])\n",
    "        \n",
    "        editor_source = self.bs.find(string=re.compile('责任编辑'))\n",
    "        if editor_source is not None:\n",
    "            editor_source = editor_source.split('责任编辑：')\n",
    "            self.article_editor = editor_source[-1].strip()\n",
    "        \n",
    "        self.category = self.bs.find('div', 'channel-path')\n",
    "        if self.category is not None:\n",
    "            self.category = self.category.find('a')\n",
    "        if self.category is not None:\n",
    "            self.category = self.category.text\n",
    "        \n",
    "        relative_topics_tags = self.bs.find('div', attrs={\n",
    "            'data-sudaclick': 'content_relativetopics_p'\n",
    "        })\n",
    "        if relative_topics_tags is not None:\n",
    "            relative_topics_tags = relative_topics_tags.find_all('a')\n",
    "#             print(relative_topics_tags)\n",
    "            self.relative_topics = \" \".join(tag.text for tag in relative_topics_tags)\n",
    "        self.data = dict()\n",
    "        for k in self.__dict__:\n",
    "            if k != 'bs' and k != 'url' and k != 'data':\n",
    "                self.data[k] = self.__dict__[k]\n",
    "#                 if k != 'content':\n",
    "#                     print(k, self.__dict__[k])\n",
    "        \n",
    "#         pass\n",
    "with requests.Session() as session:\n",
    "    session.mount('http://', HTTPAdapter(max_retries=5))\n",
    "    session.mount('https://', HTTPAdapter(max_retries=5))\n",
    "    r = SinaNews(sample_url, session)\n",
    "    await r.go()"
   ]
  },
  {
   "cell_type": "markdown",
   "metadata": {},
   "source": [
    "写入 csv 文件\n"
   ]
  },
  {
   "cell_type": "code",
   "execution_count": 11,
   "metadata": {},
   "outputs": [
    {
     "name": "stdout",
     "output_type": "stream",
     "text": [
      "done\n"
     ]
    }
   ],
   "source": [
    "import csv\n",
    "import pandas as pd\n",
    "import numpy as np\n",
    "\n",
    "sample_csv_file = \"./sample.csv\"\n",
    "\n",
    "def dump(sampleNews: SinaNews, sinaNewsList: list):\n",
    "    d = dict()\n",
    "    attrs = sampleNews.data.keys()\n",
    "    for k in attrs:\n",
    "        d[k] = []\n",
    "    for n in sinaNewsList:\n",
    "        for k in attrs:\n",
    "            if k in n.data:\n",
    "                d[k].append(n.data[k])\n",
    "            else:\n",
    "                d[k].append(None)\n",
    "    return pd.DataFrame(d, columns=attrs)\n",
    "\n",
    "\n",
    "df = dump(r, [r])\n",
    "print('done')\n",
    "df.to_csv('sample.csv')\n"
   ]
  },
  {
   "cell_type": "markdown",
   "metadata": {},
   "source": [
    "尝试读取内容"
   ]
  },
  {
   "cell_type": "code",
   "execution_count": 12,
   "metadata": {},
   "outputs": [
    {
     "data": {
      "text/html": [
       "<div>\n",
       "<style scoped>\n",
       "    .dataframe tbody tr th:only-of-type {\n",
       "        vertical-align: middle;\n",
       "    }\n",
       "\n",
       "    .dataframe tbody tr th {\n",
       "        vertical-align: top;\n",
       "    }\n",
       "\n",
       "    .dataframe thead th {\n",
       "        text-align: right;\n",
       "    }\n",
       "</style>\n",
       "<table border=\"1\" class=\"dataframe\">\n",
       "  <thead>\n",
       "    <tr style=\"text-align: right;\">\n",
       "      <th></th>\n",
       "      <th>main_title</th>\n",
       "      <th>publish_date</th>\n",
       "      <th>source</th>\n",
       "      <th>content</th>\n",
       "      <th>key_words</th>\n",
       "      <th>article_editor</th>\n",
       "      <th>category</th>\n",
       "      <th>relative_topics</th>\n",
       "    </tr>\n",
       "  </thead>\n",
       "  <tbody>\n",
       "    <tr>\n",
       "      <th>0</th>\n",
       "      <td>做空机构曾围绕瑞幸掐架：力挺瑞幸的香椽终于承认浑水是对的|做空机构_新浪财经_新浪网</td>\n",
       "      <td>2020-04-03 13:48:00</td>\n",
       "      <td>澎湃新闻</td>\n",
       "      <td>安装新浪财经客户端第一时间接收最全面的市场资讯→【下载地址】　　瑞幸咖啡（Nasdaq：LK...</td>\n",
       "      <td>做空机构 瑞幸咖啡</td>\n",
       "      <td>孟然</td>\n",
       "      <td>美股</td>\n",
       "      <td>瑞幸咖啡伪造交易股价暴跌专题</td>\n",
       "    </tr>\n",
       "  </tbody>\n",
       "</table>\n",
       "</div>"
      ],
      "text/plain": [
       "                                   main_title         publish_date source  \\\n",
       "0  做空机构曾围绕瑞幸掐架：力挺瑞幸的香椽终于承认浑水是对的|做空机构_新浪财经_新浪网  2020-04-03 13:48:00   澎湃新闻   \n",
       "\n",
       "                                             content  key_words  \\\n",
       "0  安装新浪财经客户端第一时间接收最全面的市场资讯→【下载地址】　　瑞幸咖啡（Nasdaq：LK...  做空机构 瑞幸咖啡   \n",
       "\n",
       "  article_editor category relative_topics  \n",
       "0             孟然       美股  瑞幸咖啡伪造交易股价暴跌专题  "
      ]
     },
     "execution_count": 12,
     "metadata": {},
     "output_type": "execute_result"
    }
   ],
   "source": [
    "df2 = pd.read_csv(sample_csv_file, index_col=0)\n",
    "df2"
   ]
  },
  {
   "cell_type": "markdown",
   "metadata": {},
   "source": [
    "写一个测试函数，爬取最新的几条新闻"
   ]
  },
  {
   "cell_type": "code",
   "execution_count": 14,
   "metadata": {},
   "outputs": [
    {
     "name": "stdout",
     "output_type": "stream",
     "text": [
      "<Response [200]>\n",
      "{'main_title': '北京玉渊潭公园门票倒卖情况突出 将实名购票|玉渊潭公园|景山公园|北京_新浪新闻', 'publish_date': datetime.datetime(2020, 4, 9, 16, 39), 'source': '新京报', 'content': '\\u3000\\u3000原标题：玉渊潭公园门票倒卖情况突出，将实名购票\\u3000\\u3000景山公园也将实名购票。\\u3000\\u3000新京报快讯 4月9日，北京召开新冠疫情防控第76场发布会。\\u3000\\u3000北京市公园管理中心副主任、新闻发言人张亚红表示，市属11家公园在清明假期接待游客数量比去年同期减少70%，游客在游园时也配合戴口罩、测温。这是因为市属公园提前采取网上预约措施。\\u3000\\u3000倒卖玉渊潭公园门票情况比较突出，已向公安机关报警。相关人员禁止进入所有市属公园。\\u3000\\u30004月11日，玉渊潭将实行实名购票。景山公园也将实名购票。\\u3000\\u3000新京报记者 李玉坤更多猛料！欢迎扫描左方二维码关注新浪新闻官方微信（xinlang-xinwen）违法和不良信息举报电话：4000520066\\n                    举报邮箱：jubao@vip.sina.comCopyright © 1996-2020 SINA CorporationAll Rights Reserved  新浪公司 版权所有 ', 'key_words': '玉渊潭公园 景山公园 北京', 'article_editor': '郑亚鹏', 'category': ' 社会万象', 'relative_topics': '聚焦新型冠状病毒肺炎疫情'}\n"
     ]
    }
   ],
   "source": [
    "url = \"https://news.sina.com.cn/c/2020-04-09/doc-iircuyvh6810407.shtml\"\n",
    "with requests.Session() as s:\n",
    "    n = SinaNews(url, s)\n",
    "    await n.go()\n",
    "    print(n.data)"
   ]
  },
  {
   "cell_type": "code",
   "execution_count": 15,
   "metadata": {},
   "outputs": [],
   "source": [
    "import datetime\n",
    "\n",
    "async def __test_latest_news(limit_pages = 1000):\n",
    "    def get_page_url(pid):\n",
    "        pid = int(pid)\n",
    "        return \"https://news.sina.com.cn/roll/#pageid=153&lid=2509&k=&num=50&page={}\".format(pid)\n",
    "    pid = 0\n",
    "    \n",
    "    \n",
    "    async def next_page(pid):\n",
    "        pid += 1\n",
    "        s = requests_html.AsyncHTMLSession()\n",
    "        r = await s.get(get_page_url(pid))\n",
    "        await r.html.arender()\n",
    "        bs = bs4.BeautifulSoup(r.html.html, 'html.parser')\n",
    "        links = bs.find_all('a')[6:]\n",
    "        await s.close()\n",
    "        return pid, links\n",
    "    \n",
    "    \n",
    "    cnt = 0\n",
    "    today = datetime.date.today()\n",
    "    tasks = []\n",
    "    while True:\n",
    "        pid, links = await next_page(pid)\n",
    "        for link in links:\n",
    "            print(link.text, link['href'])\n",
    "            n = SinaNews(link['href'])\n",
    "            task = asyncio.create_task(n.go())\n",
    "            tasks.append(task)\n",
    "            cnt += 1\n",
    "            if cnt % 50 == 0:\n",
    "                break\n",
    "            if cnt == limit_pages:\n",
    "                break\n",
    "        if cnt == limit_pages:\n",
    "            break\n",
    "            \n",
    "            \n",
    "    res = []\n",
    "    for task in tasks:\n",
    "        n = await task\n",
    "        res.append(n)\n",
    "            \n",
    "    return res\n",
    "\n"
   ]
  },
  {
   "cell_type": "code",
   "execution_count": null,
   "metadata": {},
   "outputs": [],
   "source": [
    "res = await __test_latest_news(20)"
   ]
  },
  {
   "cell_type": "markdown",
   "metadata": {},
   "source": [
    "测试基本完成，但是滚动页面最多只能实现50页。分析选择往日回顾的模式，采用另一种方案"
   ]
  },
  {
   "cell_type": "code",
   "execution_count": 16,
   "metadata": {},
   "outputs": [],
   "source": [
    "def getNewsFromDate(d: datetime.date):\n",
    "    def date_to_datetime(d):\n",
    "        return datetime.datetime(d.year, d.month, d.day)\n",
    "\n",
    "    def timestamp(d):\n",
    "        return (date_to_datetime(d) - datetime.datetime(1970, 1, 1)) / datetime.timedelta(seconds=1)\n",
    "    \n",
    "    dt = date_to_datetime(d)\n",
    "    \n",
    "    \n",
    "    stime = d + datetime.timedelta(hours=4)\n",
    "    etime = d - datetime.timedelta(days=1)\n",
    "    ctime = dt\n",
    "    \n",
    "    url = '''https://news.sina.com.cn/roll/#pageid=153&lid=2509&etime={}&stime={}&\n",
    "    ctime={}&date={}&k=&num=50'''.format(timestamp(etime), timestamp(stime), timestamp(ctime), d.strftime('%Y-%m-%d'))\n",
    "    return url\n"
   ]
  },
  {
   "cell_type": "markdown",
   "metadata": {},
   "source": [
    "测试一下最近三天，每天10篇新闻"
   ]
  },
  {
   "cell_type": "code",
   "execution_count": 17,
   "metadata": {},
   "outputs": [],
   "source": [
    "from itertools import chain\n",
    "import traceback\n",
    "\n",
    "async def getNewsFromDaysDuration(daysl: int, daysr: int, limit_num_per_day=0, output_num=5):\n",
    "    async def getNewsFromRollPage(url, limit_num=0, output_num=5):\n",
    "        \n",
    "        def get_page_url(pid):\n",
    "            pid = int(pid)\n",
    "            return url + \"&page={}\".format(pid)\n",
    "        \n",
    "        pid = 0\n",
    "        async def next_page(pid):\n",
    "            pid += 1\n",
    "            print(pid, get_page_url(pid))\n",
    "            s = requests_html.AsyncHTMLSession()\n",
    "            r = await s.get(get_page_url(pid))\n",
    "\n",
    "            await r.html.arender()\n",
    "            bs = bs4.BeautifulSoup(r.html.html, 'html.parser')\n",
    "            links = bs.find_all('a')[9:]\n",
    "#             print(links)\n",
    "            await s.close()\n",
    "            return pid, links\n",
    "\n",
    "\n",
    "        cnt = 0\n",
    "        today = datetime.date.today()\n",
    "        tasks = []\n",
    "        res = []\n",
    "        with requests.Session() as s:\n",
    "            s.mount('http://', HTTPAdapter(max_retries=5))\n",
    "            s.mount('https://', HTTPAdapter(max_retries=5))\n",
    "            while True:\n",
    "                pid, links = await next_page(pid)\n",
    "                for link in links:\n",
    "                    if cnt % output_num == 0:\n",
    "                        print(f\"#{cnt}\", link.text, link['href'])\n",
    "\n",
    "                    try:\n",
    "                        n = SinaNews(link['href'], s)\n",
    "                        res.append(n)\n",
    "                        tasks.append(asyncio.create_task(n.go()))\n",
    "                    except Exception as err:\n",
    "                        traceback.print_tb(err.__traceback__)\n",
    "                        print(\"something wrong with news url: {}\".format(link))\n",
    "\n",
    "                    cnt += 1\n",
    "\n",
    "                    if cnt == limit_num:\n",
    "                        break\n",
    "                    if cnt % 50 == 0:\n",
    "                        break\n",
    "                if cnt == limit_num:\n",
    "                    break\n",
    "        \n",
    "        for task in tasks:\n",
    "            await task\n",
    "        \n",
    "        return res\n",
    "    \n",
    "    \n",
    "    today = datetime.date.today()\n",
    "    res = []\n",
    "    for i in range(daysl, daysr+1):\n",
    "        print(\"day {} from today\".format(i))\n",
    "        d = today - datetime.timedelta(days=i)\n",
    "        url = getNewsFromDate(d)\n",
    "        try:\n",
    "            res += await getNewsFromRollPage(url, limit_num_per_day, output_num)\n",
    "        except Exception as e:\n",
    "            traceback.print_tb(e.__traceback__)\n",
    "            print(\"something wrong when finding news from day {}\".format(i))\n",
    "    \n",
    "    return res"
   ]
  },
  {
   "cell_type": "markdown",
   "metadata": {},
   "source": []
  },
  {
   "cell_type": "code",
   "execution_count": 20,
   "metadata": {},
   "outputs": [
    {
     "name": "stdout",
     "output_type": "stream",
     "text": [
      "day 1 from today\n",
      "1 https://news.sina.com.cn/roll/#pageid=153&lid=2509&etime=1586304000.0&stime=1586390400.0&\n",
      "    ctime=1586390400.0&date=2020-04-09&k=&num=50&page=1\n",
      "#0 美移民律师：很多中国客户因疫情失业 也回不了中国 https://news.sina.com.cn/w/2020-04-10/doc-iirczymi5399549.shtml\n",
      "#5 中国要“接管”全球？美前外交官：担忧被极大夸大 https://finance.sina.com.cn/world/gjcj/2020-04-10/doc-iirczymi5398964.shtml\n",
      "day 2 from today\n",
      "1 https://news.sina.com.cn/roll/#pageid=153&lid=2509&etime=1586217600.0&stime=1586304000.0&\n",
      "    ctime=1586304000.0&date=2020-04-08&k=&num=50&page=1\n",
      "#0 充电桩：新基建 迈向新能源汽车时代 https://finance.sina.com.cn/stock/stockzmt/2020-04-09/doc-iirczymi5206529.shtml\n",
      "#5 为遏制疫情蔓延 阿曼关闭首都所有陆路出入口 https://news.sina.com.cn/w/2020-04-09/doc-iirczymi5203902.shtml\n",
      "day 3 from today\n",
      "1 https://news.sina.com.cn/roll/#pageid=153&lid=2509&etime=1586131200.0&stime=1586217600.0&\n",
      "    ctime=1586217600.0&date=2020-04-07&k=&num=50&page=1\n",
      "#0 任泽平分析全球疫情：欧美陆续现拐点 但有长尾特征 https://finance.sina.com.cn/review/mspl/2020-04-08/doc-iimxxsth4181599.shtml\n",
      "#5 长城证券：市场驱动因素有望从流动性转向基本面 https://finance.sina.com.cn/stock/stockzmt/2020-04-08/doc-iimxyqwa5620161.shtml\n"
     ]
    }
   ],
   "source": [
    "news = await getNewsFromDaysDuration(1, 3, 10)"
   ]
  },
  {
   "cell_type": "code",
   "execution_count": 13,
   "metadata": {},
   "outputs": [
    {
     "name": "stdout",
     "output_type": "stream",
     "text": [
      "[<__main__.SinaNews object at 0x7f321e0d0a00>, <__main__.SinaNews object at 0x7f32347f96d0>, <__main__.SinaNews object at 0x7f32160afa60>, <__main__.SinaNews object at 0x7f32160b5a60>, <__main__.SinaNews object at 0x7f321e0d0190>, <__main__.SinaNews object at 0x7f321cacce20>, <__main__.SinaNews object at 0x7f321c8e5100>, <__main__.SinaNews object at 0x7f321c8dad60>, <__main__.SinaNews object at 0x7f321609b370>, <__main__.SinaNews object at 0x7f321610b880>, <__main__.SinaNews object at 0x7f321c6a1520>, <__main__.SinaNews object at 0x7f321c6a17c0>, <__main__.SinaNews object at 0x7f321cd51a90>, <__main__.SinaNews object at 0x7f3216253700>, <__main__.SinaNews object at 0x7f321cc1e130>, <__main__.SinaNews object at 0x7f321e6a3f40>, <__main__.SinaNews object at 0x7f321e5b1df0>, <__main__.SinaNews object at 0x7f321e6a3eb0>, <__main__.SinaNews object at 0x7f321e2c53a0>, <__main__.SinaNews object at 0x7f321e192460>, <__main__.SinaNews object at 0x7f321c6c5e50>, <__main__.SinaNews object at 0x7f321c6cc3a0>, <__main__.SinaNews object at 0x7f321c6c5eb0>, <__main__.SinaNews object at 0x7f3216059b20>, <__main__.SinaNews object at 0x7f321c6dcc70>, <__main__.SinaNews object at 0x7f3215cf9760>, <__main__.SinaNews object at 0x7f3215dad1f0>, <__main__.SinaNews object at 0x7f3215b280a0>, <__main__.SinaNews object at 0x7f3215b20fd0>, <__main__.SinaNews object at 0x7f3215a2d460>]\n"
     ]
    }
   ],
   "source": [
    "print(news)"
   ]
  },
  {
   "cell_type": "code",
   "execution_count": 14,
   "metadata": {},
   "outputs": [
    {
     "data": {
      "text/html": [
       "<div>\n",
       "<style scoped>\n",
       "    .dataframe tbody tr th:only-of-type {\n",
       "        vertical-align: middle;\n",
       "    }\n",
       "\n",
       "    .dataframe tbody tr th {\n",
       "        vertical-align: top;\n",
       "    }\n",
       "\n",
       "    .dataframe thead th {\n",
       "        text-align: right;\n",
       "    }\n",
       "</style>\n",
       "<table border=\"1\" class=\"dataframe\">\n",
       "  <thead>\n",
       "    <tr style=\"text-align: right;\">\n",
       "      <th></th>\n",
       "      <th>main_title</th>\n",
       "      <th>publish_date</th>\n",
       "      <th>source</th>\n",
       "      <th>content</th>\n",
       "      <th>key_words</th>\n",
       "      <th>article_editor</th>\n",
       "      <th>category</th>\n",
       "      <th>relative_topics</th>\n",
       "    </tr>\n",
       "  </thead>\n",
       "  <tbody>\n",
       "    <tr>\n",
       "      <th>0</th>\n",
       "      <td>美移民律师：很多中国客户因疫情失业 也回不了中国|疫情|新冠肺炎|美国_新浪新闻</td>\n",
       "      <td>2020-04-10 00:00:00</td>\n",
       "      <td>环球网</td>\n",
       "      <td>原标题：美国移民律师：很多中国客户因为疫情失业，也回不了中国　　美国CNN在一篇最新报道...</td>\n",
       "      <td>疫情 新冠肺炎 美国</td>\n",
       "      <td>吴金明</td>\n",
       "      <td>国内新闻</td>\n",
       "      <td>聚焦新型冠状病毒肺炎疫情 全球多国爆发新冠肺炎疫情 美国成疫情“震中”</td>\n",
       "    </tr>\n",
       "    <tr>\n",
       "      <th>1</th>\n",
       "      <td>林义相：“启动股市，接力房市”的政策取向不应该变|疫情_新浪财经_新浪网</td>\n",
       "      <td>2020-04-09 23:59:00</td>\n",
       "      <td>新浪财经-自媒体综合</td>\n",
       "      <td>来源：乐趣投资　　关注乐趣投资的人，都能找到人生乐趣　　“启动股市，接力房市”，是中国经...</td>\n",
       "      <td>疫情 股票市场</td>\n",
       "      <td>常福强</td>\n",
       "      <td>基金</td>\n",
       "      <td>None</td>\n",
       "    </tr>\n",
       "    <tr>\n",
       "      <th>2</th>\n",
       "      <td>立陶宛新增43例新冠肺炎确诊病例 累计955例|立陶宛|新冠肺炎_新浪新闻</td>\n",
       "      <td>2020-04-09 23:59:00</td>\n",
       "      <td>央视</td>\n",
       "      <td>原标题：立陶宛新增43例新冠肺炎确诊病例 累计955例　　当地时间4月9日，波罗的海新闻...</td>\n",
       "      <td>立陶宛 新冠肺炎</td>\n",
       "      <td>吴金明</td>\n",
       "      <td>国际新闻</td>\n",
       "      <td>聚焦新型冠状病毒肺炎疫情 全球多国爆发新冠肺炎疫情</td>\n",
       "    </tr>\n",
       "    <tr>\n",
       "      <th>3</th>\n",
       "      <td>警方通报鲍某某性侵事件：决定再次立案 目前仍在侦查_新浪财经_新浪网</td>\n",
       "      <td>2020-04-09 23:58:00</td>\n",
       "      <td>新浪财经</td>\n",
       "      <td>如何在结构性行情中开展投资布局？新浪财经《基金直播间》，邀请基金经理在线路演解读市场。　　新...</td>\n",
       "      <td></td>\n",
       "      <td>王帅</td>\n",
       "      <td>证券</td>\n",
       "      <td>None</td>\n",
       "    </tr>\n",
       "    <tr>\n",
       "      <th>4</th>\n",
       "      <td>武汉“解封”首日到底多少人出城？流向何处？|航班|旅客列车|新冠肺炎_新浪新闻</td>\n",
       "      <td>2020-04-09 23:57:00</td>\n",
       "      <td>红星新闻</td>\n",
       "      <td>原标题：武汉“解封”首日到底多少人出城？流向何处？　　4月8日零时，全国新冠肺炎疫情防控...</td>\n",
       "      <td>航班 旅客列车 新冠肺炎 武汉 湖北</td>\n",
       "      <td>吴金明</td>\n",
       "      <td>国内新闻</td>\n",
       "      <td>聚焦新型冠状病毒肺炎疫情</td>\n",
       "    </tr>\n",
       "  </tbody>\n",
       "</table>\n",
       "</div>"
      ],
      "text/plain": [
       "                                 main_title        publish_date      source  \\\n",
       "0  美移民律师：很多中国客户因疫情失业 也回不了中国|疫情|新冠肺炎|美国_新浪新闻 2020-04-10 00:00:00         环球网   \n",
       "1      林义相：“启动股市，接力房市”的政策取向不应该变|疫情_新浪财经_新浪网 2020-04-09 23:59:00  新浪财经-自媒体综合   \n",
       "2     立陶宛新增43例新冠肺炎确诊病例 累计955例|立陶宛|新冠肺炎_新浪新闻 2020-04-09 23:59:00          央视   \n",
       "3        警方通报鲍某某性侵事件：决定再次立案 目前仍在侦查_新浪财经_新浪网 2020-04-09 23:58:00        新浪财经   \n",
       "4   武汉“解封”首日到底多少人出城？流向何处？|航班|旅客列车|新冠肺炎_新浪新闻 2020-04-09 23:57:00        红星新闻   \n",
       "\n",
       "                                             content           key_words  \\\n",
       "0  　　原标题：美国移民律师：很多中国客户因为疫情失业，也回不了中国　　美国CNN在一篇最新报道...          疫情 新冠肺炎 美国   \n",
       "1  　　来源：乐趣投资　　关注乐趣投资的人，都能找到人生乐趣　　“启动股市，接力房市”，是中国经...             疫情 股票市场   \n",
       "2  　　原标题：立陶宛新增43例新冠肺炎确诊病例 累计955例　　当地时间4月9日，波罗的海新闻...            立陶宛 新冠肺炎   \n",
       "3  如何在结构性行情中开展投资布局？新浪财经《基金直播间》，邀请基金经理在线路演解读市场。　　新...                       \n",
       "4  　　原标题：武汉“解封”首日到底多少人出城？流向何处？　　4月8日零时，全国新冠肺炎疫情防控...  航班 旅客列车 新冠肺炎 武汉 湖北   \n",
       "\n",
       "  article_editor category                      relative_topics  \n",
       "0            吴金明     国内新闻  聚焦新型冠状病毒肺炎疫情 全球多国爆发新冠肺炎疫情 美国成疫情“震中”  \n",
       "1            常福强       基金                                 None  \n",
       "2            吴金明     国际新闻            聚焦新型冠状病毒肺炎疫情 全球多国爆发新冠肺炎疫情  \n",
       "3             王帅       证券                                 None  \n",
       "4            吴金明     国内新闻                         聚焦新型冠状病毒肺炎疫情  "
      ]
     },
     "execution_count": 14,
     "metadata": {},
     "output_type": "execute_result"
    }
   ],
   "source": [
    "df = dump(r, news)\n",
    "df.to_csv('sample2.csv')\n",
    "df.head()\n"
   ]
  },
  {
   "cell_type": "markdown",
   "metadata": {},
   "source": [
    "查看缺失情况"
   ]
  },
  {
   "cell_type": "code",
   "execution_count": 15,
   "metadata": {
    "scrolled": true
   },
   "outputs": [
    {
     "name": "stdout",
     "output_type": "stream",
     "text": [
      "main_title 0\n",
      "publish_date 0\n",
      "source 0\n",
      "content 0\n",
      "key_words 0\n",
      "article_editor 1\n",
      "category 0\n",
      "relative_topics 14\n"
     ]
    }
   ],
   "source": [
    "for attr in df:\n",
    "    print(attr, df[attr].isnull().sum())"
   ]
  },
  {
   "cell_type": "markdown",
   "metadata": {},
   "source": [
    "测试收集一天的所有新闻，新浪新闻每天只有50页保存，每页50个新闻，因此一天只有2500新闻最多可以保存"
   ]
  },
  {
   "cell_type": "code",
   "execution_count": null,
   "metadata": {},
   "outputs": [
    {
     "name": "stdout",
     "output_type": "stream",
     "text": [
      "day 1 from today\n",
      "1 https://news.sina.com.cn/roll/#pageid=153&lid=2509&etime=1586304000.0&stime=1586390400.0&\n",
      "    ctime=1586390400.0&date=2020-04-09&k=&num=50&page=1\n",
      "#0 美移民律师：很多中国客户因疫情失业 也回不了中国 https://news.sina.com.cn/w/2020-04-10/doc-iirczymi5399549.shtml\n",
      "#10 爱奇艺股价攀升；瑞穗认为其收入确认方法与行业一致 https://finance.sina.com.cn/stock/usstock/c/2020-04-09/doc-iircuyvh6868545.shtml\n",
      "#20 “华为汽车”被曝有望今年落地 华为回应：进行中 https://finance.sina.com.cn/chanjing/gsnews/2020-04-10/doc-iircuyvh6868873.shtml\n",
      "#30 美媒：这场疫情物资争夺战，穷国被富国挤得靠边站 https://news.sina.com.cn/w/2020-04-09/doc-iirczymi5397094.shtml\n",
      "#40 股票基金再现一日售罄 认购金额超上限80亿 https://finance.sina.com.cn/roll/2020-04-09/doc-iircuyvh6866605.shtml\n",
      "2 https://news.sina.com.cn/roll/#pageid=153&lid=2509&etime=1586304000.0&stime=1586390400.0&\n",
      "    ctime=1586390400.0&date=2020-04-09&k=&num=50&page=2\n",
      "#50 南非团结基金将为困难家庭提供粮食救济 https://finance.sina.com.cn/roll/2020-04-09/doc-iircuyvh6866616.shtml\n",
      "#60 武汉“封城”之前，我们究竟做了什么？ https://news.sina.com.cn/c/2020-04-09/doc-iirczymi5395971.shtml\n",
      "#70 拉卡拉2019净利润同比增34.5% https://finance.sina.com.cn/stock/s/2020-04-09/doc-iircuyvh6864893.shtml\n",
      "#80 2.3万亿美元 美联储又撒钱了 https://finance.sina.com.cn/stock/stockptd/2020-04-09/doc-iircuyvh6863768.shtml\n",
      "#90 内蒙古巴彦淖尔市委常委、常务副市长郭刚被带走调查 https://news.sina.com.cn/o/2020-04-09/doc-iirczymi5393524.shtml\n",
      "3 https://news.sina.com.cn/roll/#pageid=153&lid=2509&etime=1586304000.0&stime=1586390400.0&\n",
      "    ctime=1586390400.0&date=2020-04-09&k=&num=50&page=3\n",
      "#100 熊孩子喊奶奶眨眼点头骗绑银行卡 打游戏充值花5万多 https://news.sina.com.cn/s/2020-04-10/doc-iircuyvh6863820.shtml\n",
      "#110 欧佩克+以及其他产油国将讨论减产高达2000万桶/日 原油拉升 https://finance.sina.com.cn/world/2020-04-09/doc-iircuyvh6861796.shtml\n",
      "#120 广东省紫金县发生山体崩塌 3人死亡 https://news.sina.com.cn/c/2020-04-09/doc-iircuyvh6861913.shtml\n",
      "#130 经济学家评完善股市基础制度：市场信心进一步提升 https://finance.sina.com.cn/stock/stocktalk/2020-04-09/doc-iircuyvh6860762.shtml\n",
      "#140 新华微评：坚守社区防线，再立战“疫”新功 https://news.sina.com.cn/c/2020-04-09/doc-iirczymi5389904.shtml\n",
      "4 https://news.sina.com.cn/roll/#pageid=153&lid=2509&etime=1586304000.0&stime=1586390400.0&\n",
      "    ctime=1586390400.0&date=2020-04-09&k=&num=50&page=4\n",
      "#150 全聚德：董事长鲍民因达到法定退休年龄辞职 https://finance.sina.com.cn/roll/2020-04-09/doc-iircuyvh6859856.shtml\n",
      "#160 博通集成：2019年净利同比翻倍 ETC芯片出货量大增 https://finance.sina.com.cn/stock/s/2020-04-09/doc-iirczymi5388081.shtml\n",
      "#170 纽约医生实拍急症室：所有病房塞满了病人 https://news.sina.com.cn/w/2020-04-09/doc-iirczymi5388330.shtml\n",
      "#180 B站获索尼4亿美元战略投资 双方将在多个领域展开合作 https://finance.sina.com.cn/chanjing/gsnews/2020-04-10/doc-iircuyvh6858735.shtml\n",
      "#190 苹果帮助斯坦福医学开发新App 方便一线人员检测病毒 https://tech.sina.com.cn/i/2020-04-09/doc-iirczymi5387202.shtml\n",
      "5 https://news.sina.com.cn/roll/#pageid=153&lid=2509&etime=1586304000.0&stime=1586390400.0&\n",
      "    ctime=1586390400.0&date=2020-04-09&k=&num=50&page=5\n",
      "#200 余承东：库存积压是谣言 华为全场景体验远超苹果 https://finance.sina.com.cn/chanjing/gsnews/2020-04-09/doc-iircuyvh6857236.shtml\n",
      "#210 中概股做空真相：养肥后的宰杀 http://tech.sina.com.cn/csj/2020-04-09/doc-iirczymi5385890.shtml\n",
      "#220 火箭三级工作异常 我国长征三号乙发射印尼卫星失利 https://news.sina.com.cn/c/2020-04-09/doc-iirczymi5385493.shtml\n",
      "#230 财政部：5月1日起销售二手车减按0.5%征收增值税 https://finance.sina.com.cn/chanjing/cyxw/2020-04-09/doc-iircuyvh6855291.shtml\n",
      "#240 侠客岛：西方政客要找中国“清算”？怼回去！ https://finance.sina.com.cn/china/gncj/2020-04-09/doc-iirczymi5386042.shtml\n",
      "6 https://news.sina.com.cn/roll/#pageid=153&lid=2509&etime=1586304000.0&stime=1586390400.0&\n",
      "    ctime=1586390400.0&date=2020-04-09&k=&num=50&page=6\n",
      "#250 FED扩大宽松行动助欧元走高80余点 美油剧震近10% https://finance.sina.com.cn/money/forex/hbfx/2020-04-09/doc-iirczymi5384235.shtml\n",
      "#260 国六推后、限迁取消、补贴延续 四部委支招稳定汽车消费 https://finance.sina.com.cn/chanjing/cyxw/2020-04-09/doc-iirczymi5385587.shtml\n",
      "#270 再增660万人！美国三周近10%劳动力失业 https://news.sina.com.cn/w/2020-04-09/doc-iirczymi5386929.shtml\n",
      "#280 酒驾男仗着体校毕业撒腿就跑 没想到民警更能跑 https://news.sina.com.cn/s/2020-04-09/doc-iirczymi5386539.shtml\n",
      "#290 缅甸首个新冠肺炎治愈病例出院 https://news.sina.com.cn/w/2020-04-09/doc-iircuyvh6852454.shtml\n",
      "7 https://news.sina.com.cn/roll/#pageid=153&lid=2509&etime=1586304000.0&stime=1586390400.0&\n",
      "    ctime=1586390400.0&date=2020-04-09&k=&num=50&page=7\n",
      "#300 铁矿石阶段涨势可待 https://finance.sina.com.cn/money/future/roll/2020-04-09/doc-iirczymi5393872.shtml\n",
      "#310 2020蓝筹地产评审会：后疫情时代 房地产的“危”与“机” https://finance.sina.com.cn/chanjing/cyxw/2020-04-09/doc-iircuyvh6850996.shtml\n",
      "#320 IMF：全球经济将出现大萧条以来最严重的衰退 https://finance.sina.com.cn/money/forex/forexinfo/2020-04-09/doc-iircuyvh6850676.shtml\n",
      "#330 傲农生物：一季度净利同比增768% 预计上半年净利大增 https://finance.sina.com.cn/stock/s/2020-04-09/doc-iircuyvh6848784.shtml\n",
      "#340 中超减薪应该“中欧有别”？怎么减成了关键 https://finance.sina.com.cn/chanjing/cyxw/2020-04-09/doc-iirczymi5378267.shtml\n",
      "8 https://news.sina.com.cn/roll/#pageid=153&lid=2509&etime=1586304000.0&stime=1586390400.0&\n",
      "    ctime=1586390400.0&date=2020-04-09&k=&num=50&page=8\n",
      "#350 B站获索尼4亿美元战略投资 双方将在多领域展开合作 https://tech.sina.com.cn/i/2020-04-09/doc-iircuyvh6847345.shtml\n",
      "#360 全球护士有多大缺口？WHO：590万 https://finance.sina.com.cn/world/gjcj/2020-04-09/doc-iirczymi5376914.shtml\n",
      "#370 诚迈科技：预计一季度亏损3800万元-4300万元 https://finance.sina.com.cn/stock/s/2020-04-09/doc-iircuyvh6846040.shtml\n",
      "#380 日本新增520例新冠肺炎确诊病例 累计5492例 https://news.sina.com.cn/w/2020-04-09/doc-iircuyvh6845759.shtml\n",
      "#390 鹰眼预警:广东骏亚营收净利大幅背离 短债偿还承压 https://finance.sina.com.cn/stock/observe/2020-04-09/doc-iirczymi5374744.shtml\n",
      "9 https://news.sina.com.cn/roll/#pageid=153&lid=2509&etime=1586304000.0&stime=1586390400.0&\n",
      "    ctime=1586390400.0&date=2020-04-09&k=&num=50&page=9\n",
      "#400 巴林新增34例新冠肺炎确诊病例 累计855例 https://news.sina.com.cn/w/2020-04-09/doc-iirczymi5374808.shtml\n",
      "#410 华邦健康：子公司筹划申请首次公开发行股票并上市 https://finance.sina.com.cn/stock/s/2020-04-09/doc-iircuyvh6843926.shtml\n",
      "#420 英国首相发言人：约翰逊身体状况持续改善 https://news.sina.com.cn/w/2020-04-09/doc-iirczymi5373631.shtml\n",
      "#430 网络涉黄、新闻敲诈、侵权盗版等四类问题将被大扫除 https://tech.sina.com.cn/i/2020-04-09/doc-iirczymi5371978.shtml\n",
      "#440 吃狗肉将成为历史？农业农村部：狗已特化为伴侣动物 https://finance.sina.com.cn/chanjing/cyxw/2020-04-09/doc-iircuyvh6852371.shtml\n",
      "10 https://news.sina.com.cn/roll/#pageid=153&lid=2509&etime=1586304000.0&stime=1586390400.0&\n",
      "    ctime=1586390400.0&date=2020-04-09&k=&num=50&page=10\n",
      "#450 四川对煤矿矿长打分：预计下月执行 最重罚5年禁业 https://news.sina.com.cn/c/2020-04-09/doc-iircuyvh6840962.shtml\n",
      "#460 时隔一个月“日光基”再现：新基金发行冰火两重天 https://finance.sina.com.cn/roll/2020-04-09/doc-iircuyvh6840734.shtml\n",
      "#470 作别兴业银行 李卫民或后来居上执掌福建省联社帅印 https://finance.sina.com.cn/money/bank/gsdt/2020-04-09/doc-iircuyvh6839842.shtml\n",
      "#480 产品如期报产、商业运营团队到位 泽璟制药首战能否过关？ https://finance.sina.com.cn/stock/s/2020-04-09/doc-iircuyvh6839864.shtml\n",
      "#490 商务部：将进一步加强出口医疗物资质量监管 https://finance.sina.com.cn/china/gncj/2020-04-09/doc-iirczymi5368077.shtml\n",
      "day 2 from today\n",
      "1 https://news.sina.com.cn/roll/#pageid=153&lid=2509&etime=1586217600.0&stime=1586304000.0&\n",
      "    ctime=1586304000.0&date=2020-04-08&k=&num=50&page=1\n",
      "#0 充电桩：新基建 迈向新能源汽车时代 https://finance.sina.com.cn/stock/stockzmt/2020-04-09/doc-iirczymi5206529.shtml\n",
      "#10 美国银行策略师：在一切看上去都很恐怖的时候 买股票 https://finance.sina.com.cn/stock/usstock/c/2020-04-08/doc-iircuyvh6674616.shtml\n",
      "#20 荣盛发展：为何不对一笔6.25亿款项计提坏账？ https://finance.sina.com.cn/stock/s/2020-04-08/doc-iircuyvh6673505.shtml\n",
      "#30 毛里求斯新增5例新冠肺炎确诊病例 累计确诊273例 https://news.sina.com.cn/w/2020-04-08/doc-iirczymi5201880.shtml\n",
      "#40 爱奇艺CEO龚宇回应被做空：邪不压正 看最后谁赢！ https://finance.sina.com.cn/stock/relnews/us/2020-04-08/doc-iirczymi5202401.shtml\n",
      "2 https://news.sina.com.cn/roll/#pageid=153&lid=2509&etime=1586217600.0&stime=1586304000.0&\n",
      "    ctime=1586304000.0&date=2020-04-08&k=&num=50&page=2\n",
      "#50 湖北地方官员叶青的战\"疫\"反思：专业位置专家坐 https://finance.sina.com.cn/china/dfjj/2020-04-09/doc-iirczymi5201925.shtml\n",
      "#60 美国确诊近40万例！美专家预计今秋形势会明显改善 https://news.sina.com.cn/w/2020-04-08/doc-iircuyvh6672251.shtml\n",
      "#70 全球海上原油储存接近历史最高水平 大型油轮租金涨六成 https://finance.sina.com.cn/roll/2020-04-08/doc-iirczymi5200270.shtml\n",
      "#80 意大利因新冠肺炎疫情禁止难民船靠岸 https://news.sina.com.cn/w/2020-04-08/doc-iircuyvh6670599.shtml\n",
      "#90 “干掉”微信？三大运营商联合发布5G消息 要变革即时通讯 https://finance.sina.com.cn/stock/stockptd/2020-04-08/doc-iirczymi5198587.shtml\n",
      "3 https://news.sina.com.cn/roll/#pageid=153&lid=2509&etime=1586217600.0&stime=1586304000.0&\n",
      "    ctime=1586304000.0&date=2020-04-08&k=&num=50&page=3\n",
      "#100 OPEC+会议召开在即：特朗普推脱减产 俄沙再生分歧 https://finance.sina.com.cn/wm/2020-04-08/doc-iirczymi5198495.shtml\n",
      "#110 券商“扎堆”调研这些上市公司 提问聚焦新基建、疫情影响 https://finance.sina.com.cn/stock/quanshang/qsyj/2020-04-08/doc-iircuyvh6668669.shtml\n",
      "#120 尼日利亚向国际金融机构寻求35亿美元预算资金 https://finance.sina.com.cn/roll/2020-04-09/doc-iirczymi5197578.shtml\n"
     ]
    },
    {
     "name": "stdout",
     "output_type": "stream",
     "text": [
      "#130 欧元区共同救助计划难产 英媒:疫情暴露欧盟内部严重分歧 https://finance.sina.com.cn/world/gjcj/2020-04-08/doc-iircuyvh6667759.shtml\n",
      "#140 武磊：已康复但未核酸复测，隔离期第一次下厨做饭 https://news.sina.com.cn/c/2020-04-08/doc-iirczymi5195653.shtml\n",
      "4 https://news.sina.com.cn/roll/#pageid=153&lid=2509&etime=1586217600.0&stime=1586304000.0&\n",
      "    ctime=1586304000.0&date=2020-04-08&k=&num=50&page=4\n",
      "#150 券商代资管漩涡再起：招商资管提起4亿仲裁 https://finance.sina.com.cn/stock/quanshang/2020-04-08/doc-iircuyvh6666461.shtml\n",
      "#160 企业抗疫复产典型事迹|中铁股份：战疫复工中彰显担当 https://finance.sina.com.cn/chanjing/gsnews/2020-04-08/doc-iircuyvh6665137.shtml\n",
      "#170 早盘：美股涨幅收窄 道指上涨不足百点 https://finance.sina.com.cn/stock/usstock/c/2020-04-08/doc-iircuyvh6664528.shtml\n",
      "#180 企业抗疫复产典型事迹|北汽集团：双线战“疫” https://finance.sina.com.cn/chanjing/gsnews/2020-04-08/doc-iircuyvh6664003.shtml\n",
      "#190 围猎瑞幸、爱奇艺们的海外机构是群什么人？ https://finance.sina.com.cn/stock/stockptd/2020-04-08/doc-iircuyvh6663554.shtml\n",
      "5 https://news.sina.com.cn/roll/#pageid=153&lid=2509&etime=1586217600.0&stime=1586304000.0&\n",
      "    ctime=1586304000.0&date=2020-04-08&k=&num=50&page=5\n",
      "#200 地方金融监管条例落地后 天津首开顶格罚单合计40万 https://news.sina.com.cn/c/2020-04-08/doc-iirczymi5192361.shtml\n",
      "#210 高瓴张磊“闷声募资”，一个月打造百亿“火箭炮” https://finance.sina.com.cn/money/smjj/smgq/2020-04-09/doc-iirczymi5196739.shtml\n",
      "#220 天津新增1例境外输入确诊病例，累计报告45例 https://news.sina.com.cn/c/2020-04-08/doc-iirczymi5194254.shtml\n",
      "#230 揭开无症状感染的庐山真面目，它并不可怕 https://news.sina.com.cn/o/2020-04-08/doc-iirczymi5191566.shtml\n",
      "#240 企业抗疫复产典型事迹|瓮福达州：深化命运共同体理念 https://finance.sina.com.cn/chanjing/gsnews/2020-04-08/doc-iircuyvh6661291.shtml\n",
      "6 https://news.sina.com.cn/roll/#pageid=153&lid=2509&etime=1586217600.0&stime=1586304000.0&\n",
      "    ctime=1586304000.0&date=2020-04-08&k=&num=50&page=6\n",
      "#250 中弘股份地标级烂尾楼33亿拍出 中植系携地产大佬入局 https://finance.sina.com.cn/stock/relnews/cn/2020-04-08/doc-iirczymi5195459.shtml\n",
      "#260 华为智慧屏 X65首发评测：旗舰的画质 玩法更丰富 https://tech.sina.com.cn/elec/znjj/test/2020-04-08/doc-iircuyvh6660381.shtml\n",
      "#270 企业抗疫复产典型事迹|三冶集团：履责担当  有序复产 https://finance.sina.com.cn/chanjing/gsnews/2020-04-08/doc-iirczymi5189021.shtml\n",
      "#280 国家邮政局: 邮政行业基本恢复至疫情前服务能力 https://news.sina.com.cn/c/2020-04-08/doc-iirczymi5188225.shtml\n",
      "#290 疫情下的美国:失业率暴涨惊动白宫 主动辞职反而赚更多？ https://finance.sina.com.cn/world/gjcj/2020-04-08/doc-iircuyvh6660620.shtml\n",
      "7 https://news.sina.com.cn/roll/#pageid=153&lid=2509&etime=1586217600.0&stime=1586304000.0&\n",
      "    ctime=1586304000.0&date=2020-04-08&k=&num=50&page=7\n",
      "#300 华北制药：重组人源抗狂犬病毒注射液完成III期临床 https://finance.sina.com.cn/roll/2020-04-08/doc-iirczymi5187426.shtml\n",
      "#310 企业抗疫复产典型事迹|益海嘉里：确保市场粮油供应 https://finance.sina.com.cn/chanjing/gsnews/2020-04-08/doc-iircuyvh6658145.shtml\n",
      "#320 华为发布旗舰智慧屏 X65：OLED加持 售价24999元 https://tech.sina.com.cn/e/x/2020-04-08/doc-iircuyvh6657194.shtml\n",
      "#330 金融委：强化基础性制度建设 坚决打击造假欺诈行为 https://finance.sina.com.cn/money/bank/bank_hydt/2020-04-08/doc-iirczymi5185704.shtml\n",
      "#340 航天长峰、金健米业炸板 中潜股份连续跌停释放什么信号？ https://finance.sina.com.cn/stock/s/2020-04-08/doc-iircuyvh6656180.shtml\n",
      "8 https://news.sina.com.cn/roll/#pageid=153&lid=2509&etime=1586217600.0&stime=1586304000.0&\n",
      "    ctime=1586304000.0&date=2020-04-08&k=&num=50&page=8\n",
      "#350 沙特新增新冠肺炎确诊病例137例 累计达2932例 https://news.sina.com.cn/w/2020-04-08/doc-iirczymi5185238.shtml\n",
      "#360 国务院金融委召开第二十五次会议：维护经济稳定发展大局 https://finance.sina.com.cn/roll/2020-04-08/doc-iircuyvh6656935.shtml\n",
      "#370 华为耀星计划升级 UGC音频社区荔枝获资源激励和支持 https://finance.sina.com.cn/stock/enterprise/us/2020-04-08/doc-iirczymi5183040.shtml\n",
      "#380 复星医药：全人单克隆抗体注射液临床试验获批 https://finance.sina.com.cn/roll/2020-04-08/doc-iirczymi5182464.shtml\n",
      "#390 沃尔玛发力武汉市场 5年投资30亿元布局社区商业 https://finance.sina.com.cn/chanjing/gsnews/2020-04-08/doc-iircuyvh6653577.shtml\n",
      "9 https://news.sina.com.cn/roll/#pageid=153&lid=2509&etime=1586217600.0&stime=1586304000.0&\n",
      "    ctime=1586304000.0&date=2020-04-08&k=&num=50&page=9\n",
      "#400 鹰眼预警：中宠股份货币资金低于短期债务 https://finance.sina.com.cn/stock/observe/2020-04-08/doc-iirczymi5181423.shtml\n",
      "#410 余承东：华为去年欧盟专利申请排名第一 https://finance.sina.com.cn/chanjing/gsnews/2020-04-08/doc-iirczymi5181400.shtml\n",
      "#420 总部经济再扩容 31家外资企业为何继续看好上海 https://finance.sina.com.cn/roll/2020-04-08/doc-iircuyvh6651878.shtml\n",
      "#430 葡萄牙新增699例新冠肺炎确诊病例 累计13141例 https://news.sina.com.cn/w/2020-04-08/doc-iircuyvh6650739.shtml\n",
      "#440 伊朗卫生官员质疑中国疫情数据，驻华大使紧急表态！ https://news.sina.com.cn/w/2020-04-08/doc-iircuyvh6650177.shtml\n",
      "10 https://news.sina.com.cn/roll/#pageid=153&lid=2509&etime=1586217600.0&stime=1586304000.0&\n",
      "    ctime=1586304000.0&date=2020-04-08&k=&num=50&page=10\n",
      "#450 确保充足供应“药等人” 有些救治重点药品库存达3000万盒 https://finance.sina.com.cn/videonews/2020-04-08/doc-iirczymi5179221.shtml\n",
      "#460 武汉解封|“武汉终于有了人间烟火气息，复工要交作业了” https://finance.sina.com.cn/china/dfjj/2020-04-08/doc-iirczymi5177301.shtml\n",
      "#470 港股上市公司为何频频选择私有化之路？ https://finance.sina.com.cn/wm/2020-04-08/doc-iirczymi5177569.shtml\n",
      "#480 马耳他8日新增6例新冠肺炎病例 累计达299例 https://news.sina.com.cn/w/2020-04-08/doc-iircuyvh6647644.shtml\n",
      "#490 还有5000席待抢！东京奥运资格修订方案出炉 https://news.sina.com.cn/c/2020-04-08/doc-iirczymi5175475.shtml\n",
      "day 3 from today\n",
      "1 https://news.sina.com.cn/roll/#pageid=153&lid=2509&etime=1586131200.0&stime=1586217600.0&\n",
      "    ctime=1586217600.0&date=2020-04-07&k=&num=50&page=1\n",
      "#0 任泽平分析全球疫情：欧美陆续现拐点 但有长尾特征 https://finance.sina.com.cn/review/mspl/2020-04-08/doc-iimxxsth4181599.shtml\n",
      "#10 调查：多数消费者不盲目囤粮 “粮食还是要吃新的好” https://finance.sina.com.cn/china/gncj/2020-04-08/doc-iimxxsth4183161.shtml\n",
      "#20 可转债投资“火中取栗”  触发监管“强关注” https://finance.sina.com.cn/stock/t/2020-04-08/doc-iimxyqwa5643296.shtml\n",
      "#30 想让中国第二次“庚子赔款”，有戏吗？ https://news.sina.com.cn/c/2020-04-07/doc-iimxxsth4178927.shtml\n",
      "#40 摩尔多瓦新增91例新冠肺炎确诊病例 累计确诊1056例 https://news.sina.com.cn/w/2020-04-07/doc-iimxyqwa5617919.shtml\n",
      "2 https://news.sina.com.cn/roll/#pageid=153&lid=2509&etime=1586131200.0&stime=1586217600.0&\n",
      "    ctime=1586217600.0&date=2020-04-07&k=&num=50&page=2\n",
      "#50 美国纽约州累计确诊逾13.8万例 超过意大利 https://news.sina.com.cn/w/2020-04-07/doc-iimxxsth4177161.shtml\n",
      "#60 哈尔滨银行去年净利下滑超三成 不良率六连升 https://finance.sina.com.cn/roll/2020-04-07/doc-iimxxsth4178621.shtml\n",
      "#70 一季度18城住房月租均价降12% 品牌公寓出租率下滑两成 https://finance.sina.com.cn/chanjing/cyxw/2020-04-08/doc-iimxxsth4178635.shtml\n",
      "#80 强烈提醒！切勿通过这个口岸回国！ https://news.sina.com.cn/c/2020-04-07/doc-iimxyqwa5615515.shtml\n",
      "#90 加杠杆迅猛：3家券商一季度新增借款合计超200亿 https://finance.sina.com.cn/stock/quanshang/2020-04-07/doc-iimxyqwa5614204.shtml\n",
      "3 https://news.sina.com.cn/roll/#pageid=153&lid=2509&etime=1586131200.0&stime=1586217600.0&\n",
      "    ctime=1586217600.0&date=2020-04-07&k=&num=50&page=3\n",
      "#100 青云科技冲刺科创板：去年亏1.9亿 黄允松持股19% https://finance.sina.com.cn/stock/hkstock/hkzmt/2020-04-07/doc-iimxyqwa5613076.shtml\n",
      "#110 评论：武汉解封 疫后重启尤需“雪中送炭” https://finance.sina.com.cn/china/gncj/2020-04-08/doc-iimxyqwa5612414.shtml\n",
      "#120 重庆落户放开放宽：务工3年可落户 投资创业仅需1年 https://news.sina.com.cn/o/2020-04-07/doc-iimxxsth4171401.shtml\n",
      "#130 巴基斯坦中央银行：外汇储备三周内暴跌16亿美元 https://news.sina.com.cn/w/2020-04-07/doc-iimxxsth4170717.shtml\n",
      "#140 江西：统筹做好解除离鄂离汉通道管控配合 https://news.sina.com.cn/o/2020-04-07/doc-iimxxsth4170056.shtml\n",
      "4 https://news.sina.com.cn/roll/#pageid=153&lid=2509&etime=1586131200.0&stime=1586217600.0&\n",
      "    ctime=1586217600.0&date=2020-04-07&k=&num=50&page=4\n",
      "#150 中国人寿：公司已基本完成组织架构优化和人员调整 https://finance.sina.com.cn/money/insurance/bxyx/2020-04-07/doc-iimxyqwa5608532.shtml\n",
      "#160 武汉“封城”七十六天记 https://news.sina.com.cn/c/2020-04-07/doc-iimxxsth4169259.shtml\n",
      "#170 北京市华远集团原党委副书记、董事长任志强接受审查和调查 https://finance.sina.com.cn/china/gncj/2020-04-07/doc-iimxyqwa5607766.shtml\n",
      "#180 南华期货突遭“问询”！上市不满一年 去年净利下降36% https://finance.sina.com.cn/money/future/fmnews/2020-04-08/doc-iimxyqwa5616601.shtml\n",
      "#190 9天7板航天长峰：呼吸机销售规模占业务规模比重较小 https://finance.sina.com.cn/stock/s/2020-04-07/doc-iimxyqwa5606301.shtml\n",
      "5 https://news.sina.com.cn/roll/#pageid=153&lid=2509&etime=1586131200.0&stime=1586217600.0&\n",
      "    ctime=1586217600.0&date=2020-04-07&k=&num=50&page=5\n",
      "#200 市场全面开花 “牛味”显现? 逾145亿元北上资金涌入A股 https://finance.sina.com.cn/stock/zldx/2020-04-07/doc-iimxyqwa5605797.shtml\n",
      "#210 不知不觉美股已经反弹了20% A股呢？ https://finance.sina.com.cn/stock/stocktalk/2020-04-07/doc-iimxxsth4165210.shtml\n",
      "#220 多家猪企披露3月销售情况：销量及收入增加 售价下降 https://finance.sina.com.cn/roll/2020-04-07/doc-iimxxsth4165371.shtml\n",
      "#230 盟友间频出“截留”事件 北约急了：互相开放领空 https://news.sina.com.cn/w/2020-04-08/doc-iimxyqwa5605281.shtml\n",
      "#240 芬兰宣布延长并加强边境管制措施至5月13日 https://news.sina.com.cn/o/2020-04-07/doc-iimxyqwa5603781.shtml\n",
      "6 https://news.sina.com.cn/roll/#pageid=153&lid=2509&etime=1586131200.0&stime=1586217600.0&\n",
      "    ctime=1586217600.0&date=2020-04-07&k=&num=50&page=6\n"
     ]
    },
    {
     "name": "stdout",
     "output_type": "stream",
     "text": [
      "#250 马耳他新增新冠肺炎确诊病例52例 累计确诊293例 https://news.sina.com.cn/w/2020-04-07/doc-iimxyqwa5602228.shtml\n",
      "#260 华新水泥：预计一季度业绩减少6.1亿元-7.1亿元 https://finance.sina.com.cn/stock/s/2020-04-07/doc-iimxyqwa5601356.shtml\n",
      "#270 土总统指示严密跟踪地区和世界新冠肺炎疫情形势 https://finance.sina.com.cn/roll/2020-04-08/doc-iimxyqwa5600689.shtml\n",
      "#280 4月8日19:30武汉重启特别直播:阎志讲述大武汉的光荣与梦想 https://finance.sina.com.cn/hy/hyjz/2020-04-07/doc-iimxyqwa5600312.shtml\n",
      "#290 37家标杆房企下调今年目标预期：平均增速仅为14% https://finance.sina.com.cn/stock/hyyj/2020-04-07/doc-iimxyqwa5602992.shtml\n",
      "7 https://news.sina.com.cn/roll/#pageid=153&lid=2509&etime=1586131200.0&stime=1586217600.0&\n",
      "    ctime=1586217600.0&date=2020-04-07&k=&num=50&page=7\n",
      "#300 研究显示欧美仍为彼此最重要的经贸伙伴 https://finance.sina.com.cn/roll/2020-04-08/doc-iimxyqwa5600710.shtml\n",
      "#310 豫金刚石变脸巨亏后首日跌停 股民:亏损单位有没有搞错 https://finance.sina.com.cn/roll/2020-04-07/doc-iimxyqwa5599287.shtml\n",
      "#320 吴晓波:瑞幸造假后大量订单涌入 消费者多抱着别浪费优惠券的心理 https://finance.sina.com.cn/chanjing/gsnews/2020-04-07/doc-iimxxsth4158358.shtml\n",
      "#330 新开普：一季度净利润预增100%-130% https://finance.sina.com.cn/stock/s/2020-04-07/doc-iimxxsth4157499.shtml\n",
      "#340 证监会：部分确受疫情影响严重的公司可延迟披露年报 https://finance.sina.com.cn/stock/marketresearch/2020-04-07/doc-iimxyqwa5595932.shtml\n",
      "8 https://news.sina.com.cn/roll/#pageid=153&lid=2509&etime=1586131200.0&stime=1586217600.0&\n",
      "    ctime=1586217600.0&date=2020-04-07&k=&num=50&page=8\n",
      "#350 深圳楼市又火了？豪宅热销、“喝茶费”再现 https://finance.sina.com.cn/china/gncj/2020-04-07/doc-iimxyqwa5596203.shtml\n"
     ]
    }
   ],
   "source": [
    "news = await getNewsFromDaysDuration(1, 14, 500, 10)"
   ]
  },
  {
   "cell_type": "code",
   "execution_count": null,
   "metadata": {},
   "outputs": [],
   "source": [
    "len(news)"
   ]
  },
  {
   "cell_type": "code",
   "execution_count": null,
   "metadata": {},
   "outputs": [],
   "source": [
    "df = dump(r, news)\n",
    "df.head()\n",
    "# df.describe()\n",
    "df.to_csv('0410.csv')"
   ]
  },
  {
   "cell_type": "code",
   "execution_count": null,
   "metadata": {},
   "outputs": [],
   "source": [
    "for i in range(2, 14):\n",
    "    news = await getNewsFromDaysDuration(i, i, 2500, 20)\n",
    "    df = dump(r, news)\n",
    "    df.to_csv(f'{i}.csv')"
   ]
  }
 ],
 "metadata": {
  "kernelspec": {
   "display_name": "Python 3.8.0 64-bit",
   "language": "python",
   "name": "python38064bita164133e3aa9438ead1ae1395985b6e6"
  },
  "language_info": {
   "codemirror_mode": {
    "name": "ipython",
    "version": 3
   },
   "file_extension": ".py",
   "mimetype": "text/x-python",
   "name": "python",
   "nbconvert_exporter": "python",
   "pygments_lexer": "ipython3",
   "version": "3.8.0"
  }
 },
 "nbformat": 4,
 "nbformat_minor": 4
}
